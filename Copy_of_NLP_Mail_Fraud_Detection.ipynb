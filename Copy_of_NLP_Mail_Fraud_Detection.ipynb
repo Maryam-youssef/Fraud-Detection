{
  "nbformat": 4,
  "nbformat_minor": 0,
  "metadata": {
    "colab": {
      "provenance": [],
      "gpuType": "T4",
      "include_colab_link": true
    },
    "kernelspec": {
      "name": "python3",
      "display_name": "Python 3"
    },
    "language_info": {
      "name": "python"
    },
    "accelerator": "GPU"
  },
  "cells": [
    {
      "cell_type": "markdown",
      "metadata": {
        "id": "view-in-github",
        "colab_type": "text"
      },
      "source": [
        "<a href=\"https://colab.research.google.com/github/Maryam-youssef/Fraud-Detection/blob/main/Copy_of_NLP_Mail_Fraud_Detection.ipynb\" target=\"_parent\"><img src=\"https://colab.research.google.com/assets/colab-badge.svg\" alt=\"Open In Colab\"/></a>"
      ]
    },
    {
      "cell_type": "code",
      "execution_count": null,
      "metadata": {
        "colab": {
          "base_uri": "https://localhost:8080/"
        },
        "id": "sdyKFGJZYWHV",
        "outputId": "93885efb-fc04-45e4-8b32-ca46389e525a"
      },
      "outputs": [
        {
          "output_type": "stream",
          "name": "stdout",
          "text": [
            "Drive already mounted at /content/drive; to attempt to forcibly remount, call drive.mount(\"/content/drive\", force_remount=True).\n"
          ]
        }
      ],
      "source": [
        "from google.colab import drive\n",
        "drive.mount('/content/drive')"
      ]
    },
    {
      "cell_type": "code",
      "source": [
        "import pandas as pd\n",
        "df = pd.read_csv('//content//drive//MyDrive//fraud_email_.csv')\n",
        "df.head()"
      ],
      "metadata": {
        "colab": {
          "base_uri": "https://localhost:8080/",
          "height": 206
        },
        "id": "l9Rcn4a3ZBry",
        "outputId": "afd90668-8a63-4013-c2bb-0e12014945b0"
      },
      "execution_count": null,
      "outputs": [
        {
          "output_type": "execute_result",
          "data": {
            "text/plain": [
              "                                                Text  Class\n",
              "0  Supply Quality China's EXCLUSIVE dimensions at...      1\n",
              "1                         over. SidLet me know. Thx.      0\n",
              "2  Dear Friend,Greetings to you.I wish to accost ...      1\n",
              "3  MR. CHEUNG PUIHANG SENG BANK LTD.DES VOEUX RD....      1\n",
              "4          Not a surprising assessment from Embassy.      0"
            ],
            "text/html": [
              "\n",
              "  <div id=\"df-cabe3860-0a6f-4b25-bdff-163e5012d73e\" class=\"colab-df-container\">\n",
              "    <div>\n",
              "<style scoped>\n",
              "    .dataframe tbody tr th:only-of-type {\n",
              "        vertical-align: middle;\n",
              "    }\n",
              "\n",
              "    .dataframe tbody tr th {\n",
              "        vertical-align: top;\n",
              "    }\n",
              "\n",
              "    .dataframe thead th {\n",
              "        text-align: right;\n",
              "    }\n",
              "</style>\n",
              "<table border=\"1\" class=\"dataframe\">\n",
              "  <thead>\n",
              "    <tr style=\"text-align: right;\">\n",
              "      <th></th>\n",
              "      <th>Text</th>\n",
              "      <th>Class</th>\n",
              "    </tr>\n",
              "  </thead>\n",
              "  <tbody>\n",
              "    <tr>\n",
              "      <th>0</th>\n",
              "      <td>Supply Quality China's EXCLUSIVE dimensions at...</td>\n",
              "      <td>1</td>\n",
              "    </tr>\n",
              "    <tr>\n",
              "      <th>1</th>\n",
              "      <td>over. SidLet me know. Thx.</td>\n",
              "      <td>0</td>\n",
              "    </tr>\n",
              "    <tr>\n",
              "      <th>2</th>\n",
              "      <td>Dear Friend,Greetings to you.I wish to accost ...</td>\n",
              "      <td>1</td>\n",
              "    </tr>\n",
              "    <tr>\n",
              "      <th>3</th>\n",
              "      <td>MR. CHEUNG PUIHANG SENG BANK LTD.DES VOEUX RD....</td>\n",
              "      <td>1</td>\n",
              "    </tr>\n",
              "    <tr>\n",
              "      <th>4</th>\n",
              "      <td>Not a surprising assessment from Embassy.</td>\n",
              "      <td>0</td>\n",
              "    </tr>\n",
              "  </tbody>\n",
              "</table>\n",
              "</div>\n",
              "    <div class=\"colab-df-buttons\">\n",
              "\n",
              "  <div class=\"colab-df-container\">\n",
              "    <button class=\"colab-df-convert\" onclick=\"convertToInteractive('df-cabe3860-0a6f-4b25-bdff-163e5012d73e')\"\n",
              "            title=\"Convert this dataframe to an interactive table.\"\n",
              "            style=\"display:none;\">\n",
              "\n",
              "  <svg xmlns=\"http://www.w3.org/2000/svg\" height=\"24px\" viewBox=\"0 -960 960 960\">\n",
              "    <path d=\"M120-120v-720h720v720H120Zm60-500h600v-160H180v160Zm220 220h160v-160H400v160Zm0 220h160v-160H400v160ZM180-400h160v-160H180v160Zm440 0h160v-160H620v160ZM180-180h160v-160H180v160Zm440 0h160v-160H620v160Z\"/>\n",
              "  </svg>\n",
              "    </button>\n",
              "\n",
              "  <style>\n",
              "    .colab-df-container {\n",
              "      display:flex;\n",
              "      gap: 12px;\n",
              "    }\n",
              "\n",
              "    .colab-df-convert {\n",
              "      background-color: #E8F0FE;\n",
              "      border: none;\n",
              "      border-radius: 50%;\n",
              "      cursor: pointer;\n",
              "      display: none;\n",
              "      fill: #1967D2;\n",
              "      height: 32px;\n",
              "      padding: 0 0 0 0;\n",
              "      width: 32px;\n",
              "    }\n",
              "\n",
              "    .colab-df-convert:hover {\n",
              "      background-color: #E2EBFA;\n",
              "      box-shadow: 0px 1px 2px rgba(60, 64, 67, 0.3), 0px 1px 3px 1px rgba(60, 64, 67, 0.15);\n",
              "      fill: #174EA6;\n",
              "    }\n",
              "\n",
              "    .colab-df-buttons div {\n",
              "      margin-bottom: 4px;\n",
              "    }\n",
              "\n",
              "    [theme=dark] .colab-df-convert {\n",
              "      background-color: #3B4455;\n",
              "      fill: #D2E3FC;\n",
              "    }\n",
              "\n",
              "    [theme=dark] .colab-df-convert:hover {\n",
              "      background-color: #434B5C;\n",
              "      box-shadow: 0px 1px 3px 1px rgba(0, 0, 0, 0.15);\n",
              "      filter: drop-shadow(0px 1px 2px rgba(0, 0, 0, 0.3));\n",
              "      fill: #FFFFFF;\n",
              "    }\n",
              "  </style>\n",
              "\n",
              "    <script>\n",
              "      const buttonEl =\n",
              "        document.querySelector('#df-cabe3860-0a6f-4b25-bdff-163e5012d73e button.colab-df-convert');\n",
              "      buttonEl.style.display =\n",
              "        google.colab.kernel.accessAllowed ? 'block' : 'none';\n",
              "\n",
              "      async function convertToInteractive(key) {\n",
              "        const element = document.querySelector('#df-cabe3860-0a6f-4b25-bdff-163e5012d73e');\n",
              "        const dataTable =\n",
              "          await google.colab.kernel.invokeFunction('convertToInteractive',\n",
              "                                                    [key], {});\n",
              "        if (!dataTable) return;\n",
              "\n",
              "        const docLinkHtml = 'Like what you see? Visit the ' +\n",
              "          '<a target=\"_blank\" href=https://colab.research.google.com/notebooks/data_table.ipynb>data table notebook</a>'\n",
              "          + ' to learn more about interactive tables.';\n",
              "        element.innerHTML = '';\n",
              "        dataTable['output_type'] = 'display_data';\n",
              "        await google.colab.output.renderOutput(dataTable, element);\n",
              "        const docLink = document.createElement('div');\n",
              "        docLink.innerHTML = docLinkHtml;\n",
              "        element.appendChild(docLink);\n",
              "      }\n",
              "    </script>\n",
              "  </div>\n",
              "\n",
              "\n",
              "<div id=\"df-41a49c02-d913-4f2a-9511-86b778c04d9d\">\n",
              "  <button class=\"colab-df-quickchart\" onclick=\"quickchart('df-41a49c02-d913-4f2a-9511-86b778c04d9d')\"\n",
              "            title=\"Suggest charts\"\n",
              "            style=\"display:none;\">\n",
              "\n",
              "<svg xmlns=\"http://www.w3.org/2000/svg\" height=\"24px\"viewBox=\"0 0 24 24\"\n",
              "     width=\"24px\">\n",
              "    <g>\n",
              "        <path d=\"M19 3H5c-1.1 0-2 .9-2 2v14c0 1.1.9 2 2 2h14c1.1 0 2-.9 2-2V5c0-1.1-.9-2-2-2zM9 17H7v-7h2v7zm4 0h-2V7h2v10zm4 0h-2v-4h2v4z\"/>\n",
              "    </g>\n",
              "</svg>\n",
              "  </button>\n",
              "\n",
              "<style>\n",
              "  .colab-df-quickchart {\n",
              "      --bg-color: #E8F0FE;\n",
              "      --fill-color: #1967D2;\n",
              "      --hover-bg-color: #E2EBFA;\n",
              "      --hover-fill-color: #174EA6;\n",
              "      --disabled-fill-color: #AAA;\n",
              "      --disabled-bg-color: #DDD;\n",
              "  }\n",
              "\n",
              "  [theme=dark] .colab-df-quickchart {\n",
              "      --bg-color: #3B4455;\n",
              "      --fill-color: #D2E3FC;\n",
              "      --hover-bg-color: #434B5C;\n",
              "      --hover-fill-color: #FFFFFF;\n",
              "      --disabled-bg-color: #3B4455;\n",
              "      --disabled-fill-color: #666;\n",
              "  }\n",
              "\n",
              "  .colab-df-quickchart {\n",
              "    background-color: var(--bg-color);\n",
              "    border: none;\n",
              "    border-radius: 50%;\n",
              "    cursor: pointer;\n",
              "    display: none;\n",
              "    fill: var(--fill-color);\n",
              "    height: 32px;\n",
              "    padding: 0;\n",
              "    width: 32px;\n",
              "  }\n",
              "\n",
              "  .colab-df-quickchart:hover {\n",
              "    background-color: var(--hover-bg-color);\n",
              "    box-shadow: 0 1px 2px rgba(60, 64, 67, 0.3), 0 1px 3px 1px rgba(60, 64, 67, 0.15);\n",
              "    fill: var(--button-hover-fill-color);\n",
              "  }\n",
              "\n",
              "  .colab-df-quickchart-complete:disabled,\n",
              "  .colab-df-quickchart-complete:disabled:hover {\n",
              "    background-color: var(--disabled-bg-color);\n",
              "    fill: var(--disabled-fill-color);\n",
              "    box-shadow: none;\n",
              "  }\n",
              "\n",
              "  .colab-df-spinner {\n",
              "    border: 2px solid var(--fill-color);\n",
              "    border-color: transparent;\n",
              "    border-bottom-color: var(--fill-color);\n",
              "    animation:\n",
              "      spin 1s steps(1) infinite;\n",
              "  }\n",
              "\n",
              "  @keyframes spin {\n",
              "    0% {\n",
              "      border-color: transparent;\n",
              "      border-bottom-color: var(--fill-color);\n",
              "      border-left-color: var(--fill-color);\n",
              "    }\n",
              "    20% {\n",
              "      border-color: transparent;\n",
              "      border-left-color: var(--fill-color);\n",
              "      border-top-color: var(--fill-color);\n",
              "    }\n",
              "    30% {\n",
              "      border-color: transparent;\n",
              "      border-left-color: var(--fill-color);\n",
              "      border-top-color: var(--fill-color);\n",
              "      border-right-color: var(--fill-color);\n",
              "    }\n",
              "    40% {\n",
              "      border-color: transparent;\n",
              "      border-right-color: var(--fill-color);\n",
              "      border-top-color: var(--fill-color);\n",
              "    }\n",
              "    60% {\n",
              "      border-color: transparent;\n",
              "      border-right-color: var(--fill-color);\n",
              "    }\n",
              "    80% {\n",
              "      border-color: transparent;\n",
              "      border-right-color: var(--fill-color);\n",
              "      border-bottom-color: var(--fill-color);\n",
              "    }\n",
              "    90% {\n",
              "      border-color: transparent;\n",
              "      border-bottom-color: var(--fill-color);\n",
              "    }\n",
              "  }\n",
              "</style>\n",
              "\n",
              "  <script>\n",
              "    async function quickchart(key) {\n",
              "      const quickchartButtonEl =\n",
              "        document.querySelector('#' + key + ' button');\n",
              "      quickchartButtonEl.disabled = true;  // To prevent multiple clicks.\n",
              "      quickchartButtonEl.classList.add('colab-df-spinner');\n",
              "      try {\n",
              "        const charts = await google.colab.kernel.invokeFunction(\n",
              "            'suggestCharts', [key], {});\n",
              "      } catch (error) {\n",
              "        console.error('Error during call to suggestCharts:', error);\n",
              "      }\n",
              "      quickchartButtonEl.classList.remove('colab-df-spinner');\n",
              "      quickchartButtonEl.classList.add('colab-df-quickchart-complete');\n",
              "    }\n",
              "    (() => {\n",
              "      let quickchartButtonEl =\n",
              "        document.querySelector('#df-41a49c02-d913-4f2a-9511-86b778c04d9d button');\n",
              "      quickchartButtonEl.style.display =\n",
              "        google.colab.kernel.accessAllowed ? 'block' : 'none';\n",
              "    })();\n",
              "  </script>\n",
              "</div>\n",
              "\n",
              "    </div>\n",
              "  </div>\n"
            ],
            "application/vnd.google.colaboratory.intrinsic+json": {
              "type": "dataframe",
              "variable_name": "df",
              "summary": "{\n  \"name\": \"df\",\n  \"rows\": 11929,\n  \"fields\": [\n    {\n      \"column\": \"Text\",\n      \"properties\": {\n        \"dtype\": \"string\",\n        \"num_unique_values\": 10249,\n        \"samples\": [\n          \"Cc:Abedin Huma <AbedinH@state.gov>Monday March 1 2010 12:45 PMB6H\",\n          \"RELEASE IN PARTB6Hi Hillary. Here is the note I promised. It is at least a first stab. I would be grateful if it could be kept just between us.Best TonyDISCLAIMERWARNING \\u2014 This email is only intended for the person to whom or entity to which it is addressed and together with any files transmitted with it is confidential andmay also be privileged. If you are not the intended recipient you must not copy forward use or rely on any part of it or disclose its contents to any person. If youhave received it in error please notify our system manager on +44 20 7647 7782 and delete all copies immediately.Except where this email is sent in the usual course of our business the views expressed in this email are those of the sender and not those of The Office of TonyBlair.The Office of Tony Blair accepts no responsibility for software viruses and you should check for viruses before opening any attachments. Internet communicationsare not secure and therefore The Office of Tony Blair does not provide any guarantee or warranty that this email or any attachments shall remain confidential.The Office of Tony Blair is a trading name of Windrush Ventures Limited and Windrush Ventures No.3 LP. Windrush Ventures Limited is a limited companyregistered in England and Wales with registered number 06397276. Its registered office is 50 Broadway London SW1H OBL.Windrush Ventures No. 3 LP is a limited partnership registered in England and Wales with registered number LP012665. Its registered office is 50 BroadwayLondon SW1H OBL. The members of Windrush Ventures No.3 LP are BDBCO No.819 Limited and Windrush Ventures No.2 LLP and the address at which each ofthese can be served is 50 Broadway London SW1H OBL.This email may relate to or be sent from other members of the Windrush group.This email has been scanned by the MessageLabs Email Security System.For more information please visit http://www.messagelabs.com/email\",\n          \"B6RELEASE IN PARTB6\"\n        ],\n        \"semantic_type\": \"\",\n        \"description\": \"\"\n      }\n    },\n    {\n      \"column\": \"Class\",\n      \"properties\": {\n        \"dtype\": \"number\",\n        \"std\": 0,\n        \"min\": 0,\n        \"max\": 1,\n        \"num_unique_values\": 2,\n        \"samples\": [\n          0,\n          1\n        ],\n        \"semantic_type\": \"\",\n        \"description\": \"\"\n      }\n    }\n  ]\n}"
            }
          },
          "metadata": {},
          "execution_count": 3
        }
      ]
    },
    {
      "cell_type": "code",
      "source": [
        "df.info()"
      ],
      "metadata": {
        "colab": {
          "base_uri": "https://localhost:8080/"
        },
        "id": "VuYwTP1zuNwQ",
        "outputId": "002b1ef5-f139-4e7f-9b03-4a46add5f4dd"
      },
      "execution_count": null,
      "outputs": [
        {
          "output_type": "stream",
          "name": "stdout",
          "text": [
            "<class 'pandas.core.frame.DataFrame'>\n",
            "RangeIndex: 11929 entries, 0 to 11928\n",
            "Data columns (total 2 columns):\n",
            " #   Column  Non-Null Count  Dtype \n",
            "---  ------  --------------  ----- \n",
            " 0   Text    11928 non-null  object\n",
            " 1   Class   11929 non-null  int64 \n",
            "dtypes: int64(1), object(1)\n",
            "memory usage: 186.5+ KB\n"
          ]
        }
      ]
    },
    {
      "cell_type": "code",
      "source": [
        "df.shape"
      ],
      "metadata": {
        "colab": {
          "base_uri": "https://localhost:8080/"
        },
        "id": "vqwSIqnxxoqz",
        "outputId": "5ec5e0c6-2f95-4153-f1ff-fb385a1b6086"
      },
      "execution_count": null,
      "outputs": [
        {
          "output_type": "execute_result",
          "data": {
            "text/plain": [
              "(11929, 2)"
            ]
          },
          "metadata": {},
          "execution_count": 5
        }
      ]
    },
    {
      "cell_type": "code",
      "source": [
        "df.describe()"
      ],
      "metadata": {
        "colab": {
          "base_uri": "https://localhost:8080/",
          "height": 300
        },
        "id": "IK301W1AuoO8",
        "outputId": "57e025fb-abb2-4844-d26a-bddaadd93e87"
      },
      "execution_count": null,
      "outputs": [
        {
          "output_type": "execute_result",
          "data": {
            "text/plain": [
              "              Class\n",
              "count  11929.000000\n",
              "mean       0.434823\n",
              "std        0.495754\n",
              "min        0.000000\n",
              "25%        0.000000\n",
              "50%        0.000000\n",
              "75%        1.000000\n",
              "max        1.000000"
            ],
            "text/html": [
              "\n",
              "  <div id=\"df-608f96c2-0e51-474a-86ba-07b07d08e77f\" class=\"colab-df-container\">\n",
              "    <div>\n",
              "<style scoped>\n",
              "    .dataframe tbody tr th:only-of-type {\n",
              "        vertical-align: middle;\n",
              "    }\n",
              "\n",
              "    .dataframe tbody tr th {\n",
              "        vertical-align: top;\n",
              "    }\n",
              "\n",
              "    .dataframe thead th {\n",
              "        text-align: right;\n",
              "    }\n",
              "</style>\n",
              "<table border=\"1\" class=\"dataframe\">\n",
              "  <thead>\n",
              "    <tr style=\"text-align: right;\">\n",
              "      <th></th>\n",
              "      <th>Class</th>\n",
              "    </tr>\n",
              "  </thead>\n",
              "  <tbody>\n",
              "    <tr>\n",
              "      <th>count</th>\n",
              "      <td>11929.000000</td>\n",
              "    </tr>\n",
              "    <tr>\n",
              "      <th>mean</th>\n",
              "      <td>0.434823</td>\n",
              "    </tr>\n",
              "    <tr>\n",
              "      <th>std</th>\n",
              "      <td>0.495754</td>\n",
              "    </tr>\n",
              "    <tr>\n",
              "      <th>min</th>\n",
              "      <td>0.000000</td>\n",
              "    </tr>\n",
              "    <tr>\n",
              "      <th>25%</th>\n",
              "      <td>0.000000</td>\n",
              "    </tr>\n",
              "    <tr>\n",
              "      <th>50%</th>\n",
              "      <td>0.000000</td>\n",
              "    </tr>\n",
              "    <tr>\n",
              "      <th>75%</th>\n",
              "      <td>1.000000</td>\n",
              "    </tr>\n",
              "    <tr>\n",
              "      <th>max</th>\n",
              "      <td>1.000000</td>\n",
              "    </tr>\n",
              "  </tbody>\n",
              "</table>\n",
              "</div>\n",
              "    <div class=\"colab-df-buttons\">\n",
              "\n",
              "  <div class=\"colab-df-container\">\n",
              "    <button class=\"colab-df-convert\" onclick=\"convertToInteractive('df-608f96c2-0e51-474a-86ba-07b07d08e77f')\"\n",
              "            title=\"Convert this dataframe to an interactive table.\"\n",
              "            style=\"display:none;\">\n",
              "\n",
              "  <svg xmlns=\"http://www.w3.org/2000/svg\" height=\"24px\" viewBox=\"0 -960 960 960\">\n",
              "    <path d=\"M120-120v-720h720v720H120Zm60-500h600v-160H180v160Zm220 220h160v-160H400v160Zm0 220h160v-160H400v160ZM180-400h160v-160H180v160Zm440 0h160v-160H620v160ZM180-180h160v-160H180v160Zm440 0h160v-160H620v160Z\"/>\n",
              "  </svg>\n",
              "    </button>\n",
              "\n",
              "  <style>\n",
              "    .colab-df-container {\n",
              "      display:flex;\n",
              "      gap: 12px;\n",
              "    }\n",
              "\n",
              "    .colab-df-convert {\n",
              "      background-color: #E8F0FE;\n",
              "      border: none;\n",
              "      border-radius: 50%;\n",
              "      cursor: pointer;\n",
              "      display: none;\n",
              "      fill: #1967D2;\n",
              "      height: 32px;\n",
              "      padding: 0 0 0 0;\n",
              "      width: 32px;\n",
              "    }\n",
              "\n",
              "    .colab-df-convert:hover {\n",
              "      background-color: #E2EBFA;\n",
              "      box-shadow: 0px 1px 2px rgba(60, 64, 67, 0.3), 0px 1px 3px 1px rgba(60, 64, 67, 0.15);\n",
              "      fill: #174EA6;\n",
              "    }\n",
              "\n",
              "    .colab-df-buttons div {\n",
              "      margin-bottom: 4px;\n",
              "    }\n",
              "\n",
              "    [theme=dark] .colab-df-convert {\n",
              "      background-color: #3B4455;\n",
              "      fill: #D2E3FC;\n",
              "    }\n",
              "\n",
              "    [theme=dark] .colab-df-convert:hover {\n",
              "      background-color: #434B5C;\n",
              "      box-shadow: 0px 1px 3px 1px rgba(0, 0, 0, 0.15);\n",
              "      filter: drop-shadow(0px 1px 2px rgba(0, 0, 0, 0.3));\n",
              "      fill: #FFFFFF;\n",
              "    }\n",
              "  </style>\n",
              "\n",
              "    <script>\n",
              "      const buttonEl =\n",
              "        document.querySelector('#df-608f96c2-0e51-474a-86ba-07b07d08e77f button.colab-df-convert');\n",
              "      buttonEl.style.display =\n",
              "        google.colab.kernel.accessAllowed ? 'block' : 'none';\n",
              "\n",
              "      async function convertToInteractive(key) {\n",
              "        const element = document.querySelector('#df-608f96c2-0e51-474a-86ba-07b07d08e77f');\n",
              "        const dataTable =\n",
              "          await google.colab.kernel.invokeFunction('convertToInteractive',\n",
              "                                                    [key], {});\n",
              "        if (!dataTable) return;\n",
              "\n",
              "        const docLinkHtml = 'Like what you see? Visit the ' +\n",
              "          '<a target=\"_blank\" href=https://colab.research.google.com/notebooks/data_table.ipynb>data table notebook</a>'\n",
              "          + ' to learn more about interactive tables.';\n",
              "        element.innerHTML = '';\n",
              "        dataTable['output_type'] = 'display_data';\n",
              "        await google.colab.output.renderOutput(dataTable, element);\n",
              "        const docLink = document.createElement('div');\n",
              "        docLink.innerHTML = docLinkHtml;\n",
              "        element.appendChild(docLink);\n",
              "      }\n",
              "    </script>\n",
              "  </div>\n",
              "\n",
              "\n",
              "<div id=\"df-cf70283d-4c5a-4230-b9ca-79cdf9eb5c4e\">\n",
              "  <button class=\"colab-df-quickchart\" onclick=\"quickchart('df-cf70283d-4c5a-4230-b9ca-79cdf9eb5c4e')\"\n",
              "            title=\"Suggest charts\"\n",
              "            style=\"display:none;\">\n",
              "\n",
              "<svg xmlns=\"http://www.w3.org/2000/svg\" height=\"24px\"viewBox=\"0 0 24 24\"\n",
              "     width=\"24px\">\n",
              "    <g>\n",
              "        <path d=\"M19 3H5c-1.1 0-2 .9-2 2v14c0 1.1.9 2 2 2h14c1.1 0 2-.9 2-2V5c0-1.1-.9-2-2-2zM9 17H7v-7h2v7zm4 0h-2V7h2v10zm4 0h-2v-4h2v4z\"/>\n",
              "    </g>\n",
              "</svg>\n",
              "  </button>\n",
              "\n",
              "<style>\n",
              "  .colab-df-quickchart {\n",
              "      --bg-color: #E8F0FE;\n",
              "      --fill-color: #1967D2;\n",
              "      --hover-bg-color: #E2EBFA;\n",
              "      --hover-fill-color: #174EA6;\n",
              "      --disabled-fill-color: #AAA;\n",
              "      --disabled-bg-color: #DDD;\n",
              "  }\n",
              "\n",
              "  [theme=dark] .colab-df-quickchart {\n",
              "      --bg-color: #3B4455;\n",
              "      --fill-color: #D2E3FC;\n",
              "      --hover-bg-color: #434B5C;\n",
              "      --hover-fill-color: #FFFFFF;\n",
              "      --disabled-bg-color: #3B4455;\n",
              "      --disabled-fill-color: #666;\n",
              "  }\n",
              "\n",
              "  .colab-df-quickchart {\n",
              "    background-color: var(--bg-color);\n",
              "    border: none;\n",
              "    border-radius: 50%;\n",
              "    cursor: pointer;\n",
              "    display: none;\n",
              "    fill: var(--fill-color);\n",
              "    height: 32px;\n",
              "    padding: 0;\n",
              "    width: 32px;\n",
              "  }\n",
              "\n",
              "  .colab-df-quickchart:hover {\n",
              "    background-color: var(--hover-bg-color);\n",
              "    box-shadow: 0 1px 2px rgba(60, 64, 67, 0.3), 0 1px 3px 1px rgba(60, 64, 67, 0.15);\n",
              "    fill: var(--button-hover-fill-color);\n",
              "  }\n",
              "\n",
              "  .colab-df-quickchart-complete:disabled,\n",
              "  .colab-df-quickchart-complete:disabled:hover {\n",
              "    background-color: var(--disabled-bg-color);\n",
              "    fill: var(--disabled-fill-color);\n",
              "    box-shadow: none;\n",
              "  }\n",
              "\n",
              "  .colab-df-spinner {\n",
              "    border: 2px solid var(--fill-color);\n",
              "    border-color: transparent;\n",
              "    border-bottom-color: var(--fill-color);\n",
              "    animation:\n",
              "      spin 1s steps(1) infinite;\n",
              "  }\n",
              "\n",
              "  @keyframes spin {\n",
              "    0% {\n",
              "      border-color: transparent;\n",
              "      border-bottom-color: var(--fill-color);\n",
              "      border-left-color: var(--fill-color);\n",
              "    }\n",
              "    20% {\n",
              "      border-color: transparent;\n",
              "      border-left-color: var(--fill-color);\n",
              "      border-top-color: var(--fill-color);\n",
              "    }\n",
              "    30% {\n",
              "      border-color: transparent;\n",
              "      border-left-color: var(--fill-color);\n",
              "      border-top-color: var(--fill-color);\n",
              "      border-right-color: var(--fill-color);\n",
              "    }\n",
              "    40% {\n",
              "      border-color: transparent;\n",
              "      border-right-color: var(--fill-color);\n",
              "      border-top-color: var(--fill-color);\n",
              "    }\n",
              "    60% {\n",
              "      border-color: transparent;\n",
              "      border-right-color: var(--fill-color);\n",
              "    }\n",
              "    80% {\n",
              "      border-color: transparent;\n",
              "      border-right-color: var(--fill-color);\n",
              "      border-bottom-color: var(--fill-color);\n",
              "    }\n",
              "    90% {\n",
              "      border-color: transparent;\n",
              "      border-bottom-color: var(--fill-color);\n",
              "    }\n",
              "  }\n",
              "</style>\n",
              "\n",
              "  <script>\n",
              "    async function quickchart(key) {\n",
              "      const quickchartButtonEl =\n",
              "        document.querySelector('#' + key + ' button');\n",
              "      quickchartButtonEl.disabled = true;  // To prevent multiple clicks.\n",
              "      quickchartButtonEl.classList.add('colab-df-spinner');\n",
              "      try {\n",
              "        const charts = await google.colab.kernel.invokeFunction(\n",
              "            'suggestCharts', [key], {});\n",
              "      } catch (error) {\n",
              "        console.error('Error during call to suggestCharts:', error);\n",
              "      }\n",
              "      quickchartButtonEl.classList.remove('colab-df-spinner');\n",
              "      quickchartButtonEl.classList.add('colab-df-quickchart-complete');\n",
              "    }\n",
              "    (() => {\n",
              "      let quickchartButtonEl =\n",
              "        document.querySelector('#df-cf70283d-4c5a-4230-b9ca-79cdf9eb5c4e button');\n",
              "      quickchartButtonEl.style.display =\n",
              "        google.colab.kernel.accessAllowed ? 'block' : 'none';\n",
              "    })();\n",
              "  </script>\n",
              "</div>\n",
              "\n",
              "    </div>\n",
              "  </div>\n"
            ],
            "application/vnd.google.colaboratory.intrinsic+json": {
              "type": "dataframe",
              "summary": "{\n  \"name\": \"df\",\n  \"rows\": 8,\n  \"fields\": [\n    {\n      \"column\": \"Class\",\n      \"properties\": {\n        \"dtype\": \"number\",\n        \"std\": 4217.3904003450025,\n        \"min\": 0.0,\n        \"max\": 11929.0,\n        \"num_unique_values\": 5,\n        \"samples\": [\n          0.4348227009808031,\n          1.0,\n          0.4957544983526202\n        ],\n        \"semantic_type\": \"\",\n        \"description\": \"\"\n      }\n    }\n  ]\n}"
            }
          },
          "metadata": {},
          "execution_count": 6
        }
      ]
    },
    {
      "cell_type": "code",
      "source": [
        "df.columns"
      ],
      "metadata": {
        "colab": {
          "base_uri": "https://localhost:8080/"
        },
        "id": "-O2Hq8HLuxw-",
        "outputId": "2ca9facc-3efa-45dd-efa7-f0e859edd9fa"
      },
      "execution_count": null,
      "outputs": [
        {
          "output_type": "execute_result",
          "data": {
            "text/plain": [
              "Index(['Text', 'Class'], dtype='object')"
            ]
          },
          "metadata": {},
          "execution_count": 7
        }
      ]
    },
    {
      "cell_type": "code",
      "source": [
        "df.isnull().sum()"
      ],
      "metadata": {
        "colab": {
          "base_uri": "https://localhost:8080/",
          "height": 147
        },
        "id": "Co7p6-TLvI68",
        "outputId": "3826b21d-5697-405f-bd15-a2e1a3317ad0"
      },
      "execution_count": null,
      "outputs": [
        {
          "output_type": "execute_result",
          "data": {
            "text/plain": [
              "Text     1\n",
              "Class    0\n",
              "dtype: int64"
            ],
            "text/html": [
              "<div>\n",
              "<style scoped>\n",
              "    .dataframe tbody tr th:only-of-type {\n",
              "        vertical-align: middle;\n",
              "    }\n",
              "\n",
              "    .dataframe tbody tr th {\n",
              "        vertical-align: top;\n",
              "    }\n",
              "\n",
              "    .dataframe thead th {\n",
              "        text-align: right;\n",
              "    }\n",
              "</style>\n",
              "<table border=\"1\" class=\"dataframe\">\n",
              "  <thead>\n",
              "    <tr style=\"text-align: right;\">\n",
              "      <th></th>\n",
              "      <th>0</th>\n",
              "    </tr>\n",
              "  </thead>\n",
              "  <tbody>\n",
              "    <tr>\n",
              "      <th>Text</th>\n",
              "      <td>1</td>\n",
              "    </tr>\n",
              "    <tr>\n",
              "      <th>Class</th>\n",
              "      <td>0</td>\n",
              "    </tr>\n",
              "  </tbody>\n",
              "</table>\n",
              "</div><br><label><b>dtype:</b> int64</label>"
            ]
          },
          "metadata": {},
          "execution_count": 8
        }
      ]
    },
    {
      "cell_type": "code",
      "source": [
        "df = df.dropna(subset=['Text'])\n",
        "print(df.isnull().sum())\n",
        "\n"
      ],
      "metadata": {
        "colab": {
          "base_uri": "https://localhost:8080/"
        },
        "id": "7k-u5mEtveMM",
        "outputId": "468fa8fc-c511-40c2-da53-3893676f5536"
      },
      "execution_count": null,
      "outputs": [
        {
          "output_type": "stream",
          "name": "stdout",
          "text": [
            "Text     0\n",
            "Class    0\n",
            "dtype: int64\n"
          ]
        }
      ]
    },
    {
      "cell_type": "code",
      "source": [
        "# now we want to know the percentage of fruad and non fraud transactions\n",
        "fraud=df['Class'].value_counts()[1]/len(df)*100\n",
        "fraud_percentage=round(fraud,2)\n",
        "print('fraud percentage',fraud_percentage)\n",
        "\n",
        "not_fraud=df['Class'].value_counts()[0]/len(df)*100\n",
        "not_fraud_percentage=round(not_fraud,2)\n",
        "print('not fraud percentage',not_fraud_percentage)\n",
        "\n",
        "#notes: balanced data"
      ],
      "metadata": {
        "colab": {
          "base_uri": "https://localhost:8080/"
        },
        "id": "-KczgkbLwynB",
        "outputId": "34b64804-d54c-4c50-bb13-0ab8ea11b8b3"
      },
      "execution_count": null,
      "outputs": [
        {
          "output_type": "stream",
          "name": "stdout",
          "text": [
            "fraud percentage 43.48\n",
            "not fraud percentage 56.52\n"
          ]
        }
      ]
    },
    {
      "cell_type": "code",
      "source": [
        "import seaborn as sns\n",
        "import matplotlib.pyplot as plt\n",
        "\n",
        "colors = [\"#FF00FF\", \"#4B0082\"]\n",
        "sns.countplot(x='Class',data=df,palette=colors)\n",
        "plt.title(\"Class column distribution\\n (Not Fraud->0)(Fraud->1)\",fontsize=14)"
      ],
      "metadata": {
        "colab": {
          "base_uri": "https://localhost:8080/",
          "height": 689
        },
        "id": "n_Tc7n4CxN3w",
        "outputId": "602d6383-1f46-4f27-9a90-5c2a89275b0c"
      },
      "execution_count": null,
      "outputs": [
        {
          "output_type": "stream",
          "name": "stderr",
          "text": [
            "<ipython-input-11-415971124e25>:5: FutureWarning: \n",
            "\n",
            "Passing `palette` without assigning `hue` is deprecated and will be removed in v0.14.0. Assign the `x` variable to `hue` and set `legend=False` for the same effect.\n",
            "\n",
            "  sns.countplot(x='Class',data=df,palette=colors)\n",
            "/usr/local/lib/python3.10/dist-packages/seaborn/_base.py:949: FutureWarning: When grouping with a length-1 list-like, you will need to pass a length-1 tuple to get_group in a future version of pandas. Pass `(name,)` instead of `name` to silence this warning.\n",
            "  data_subset = grouped_data.get_group(pd_key)\n",
            "/usr/local/lib/python3.10/dist-packages/seaborn/_base.py:949: FutureWarning: When grouping with a length-1 list-like, you will need to pass a length-1 tuple to get_group in a future version of pandas. Pass `(name,)` instead of `name` to silence this warning.\n",
            "  data_subset = grouped_data.get_group(pd_key)\n"
          ]
        },
        {
          "output_type": "execute_result",
          "data": {
            "text/plain": [
              "Text(0.5, 1.0, 'Class column distribution\\n (Not Fraud->0)(Fraud->1)')"
            ]
          },
          "metadata": {},
          "execution_count": 11
        },
        {
          "output_type": "display_data",
          "data": {
            "text/plain": [
              "<Figure size 640x480 with 1 Axes>"
            ],
            "image/png": "[encoded data removed]"
          },
          "metadata": {}
        }
      ]
    },
    {
      "cell_type": "markdown",
      "source": [
        " Data Preprocessing\n",
        "\n"
      ],
      "metadata": {
        "id": "BOUZJFaQx9uu"
      }
    },
    {
      "cell_type": "code",
      "source": [
        "import re\n",
        "\n",
        "def clean_text_with_spacing(text):\n",
        "    # If text is a list (due to tokenization), join it back into a single string\n",
        "    if isinstance(text, list):\n",
        "        text = ' '.join(text)\n",
        "    # Convert text to lowercase\n",
        "    text = text.lower()\n",
        "    # Remove punctuation and special characters, but keep spaces intact\n",
        "    text = re.sub(r'[^a-z\\s]', '', text)\n",
        "    # Split and rejoin words to standardize spacing\n",
        "    text = ' '.join(text.split())\n",
        "    return text\n",
        "\n",
        "# Apply this updated function to your DataFrame\n",
        "df['Text'] = df['Text'].apply(clean_text_with_spacing)\n"
      ],
      "metadata": {
        "id": "ICPaYtuXy8Gj"
      },
      "execution_count": null,
      "outputs": []
    },
    {
      "cell_type": "code",
      "source": [
        "print(df['Text'].sample(5))"
      ],
      "metadata": {
        "colab": {
          "base_uri": "https://localhost:8080/"
        },
        "id": "ecnyMhn04mEj",
        "outputId": "44c36d78-d5f5-4522-e153-eed409d78f85"
      },
      "execution_count": null,
      "outputs": [
        {
          "output_type": "stream",
          "name": "stdout",
          "text": [
            "6557     that sounds like a good menu we are seeing if ...\n",
            "11422    concernbri am an american soldier i am serving...\n",
            "1086     from auditorhead of departmentbank of scotland...\n",
            "2410     from the desk of bill and exchange managerdr e...\n",
            "4185     from mark and rose kuntaunited nation assylum ...\n",
            "Name: Text, dtype: object\n"
          ]
        }
      ]
    },
    {
      "cell_type": "code",
      "source": [
        "email_index = 6049\n",
        "print(\"Email content:\", df.loc[email_index, 'Text'])"
      ],
      "metadata": {
        "colab": {
          "base_uri": "https://localhost:8080/"
        },
        "id": "a-H2238-_3Y7",
        "outputId": "89571f09-0588-4b6c-eec0-4d7249f9e2bc"
      },
      "execution_count": null,
      "outputs": [
        {
          "output_type": "stream",
          "name": "stdout",
          "text": [
            "Email content: from yasmina awana abidjancote d ivoire west africa yasminaawanayahoocom dearest one it is my pleasure to write you after much consideration since i can not be able to see you face to face at first please i need your help i am yasmina awana the only dauther of late joseph awana from cote divoire i am years of age my father was a liability cocoa and gold merchant in abidjan cote divoire before his untimely deathafter his business trip to tunisiato nagociate on a cocoa and gold business he wanted to invest in tunisia a week after he came back from tunisia he got an accident with my mother of which my mother died instantly but my father died five days after in a private hospital on that faithful afternoon i didnbt know that my father was going to leave me after i had earlier lost my mother but before he gave up the ghost it was as if he knew he was going to die he my father may his soul rest in perfect peace called me to his bed side and told me that he deposited the sum of m ten million five hundred thousand us dollars in a bank here in cote d ivoirethat the money was meant for his cocoa and gold business he wanted to establish in tunisia according to my father he deposited the money in a fixed suspense account using my name as the next of kin he instructed me to seek for a reliable and trust worthy business partner for my life time investment abroad now i have succeeded in locating the deposit documents and the bank where this money is here in abidjancote divoire due to war in my country cote divoire i am now seeking for your assistance to help me transfer this money out from my country cfte dbivoire to your account abroad so that we should invest it in any meaningful and lucrative business in your country because this is my only hope in life i am willing to offer you of the total fund if only you can help me out of my present predicament the worst part of it is that my uncle is trying to kill me over this money because i refused to hand him over the documents covering this money he has sold all my fathers landed properties including his cars which rightful belong to me and now he want me to hanh over the banking document of my father in my possesion which i refusednow he said that he will have this money by all means even if it means killing me so because of this i ran away from home and hide in a hotelpending when this money will be transfered so that i can leave the country for my safty please reply me to my private box at yasminaawanayahoocom thanks and allah bless you yours sincerely yasmina decouvrez une nouvelle faeon dobtenir des reponses e toutes vos questions profitez des connaissances des opinions et des experiences des internautes sur yahoo questionsreponses decouvrez une nouvelle faeon dobtenir des reponses e toutes vos questions profitez des connaissances des opinions et des experiences des internautes sur yahoo questionsreponses\n"
          ]
        }
      ]
    },
    {
      "cell_type": "code",
      "source": [
        "import nltk\n",
        "nltk.download('punkt')\n",
        "from nltk.tokenize import word_tokenize\n",
        "# convert the column to string\n",
        "df['Text'] = df['Text'].astype(str)   # solution to the (TypeError: expected string or bytes-like object)\n",
        "\n",
        "df['Text']  = df['Text'].apply(word_tokenize)\n",
        "print(\"tokens:\", df.loc[6049, 'Text'])\n",
        "#print(df['Text'] )\n"
      ],
      "metadata": {
        "colab": {
          "base_uri": "https://localhost:8080/"
        },
        "id": "xAwgUYGs__i8",
        "outputId": "b2d6c22d-d08c-40bb-f446-d5bd1f8f73b9"
      },
      "execution_count": null,
      "outputs": [
        {
          "output_type": "stream",
          "name": "stderr",
          "text": [
            "[nltk_data] Downloading package punkt to /root/nltk_data...\n",
            "[nltk_data]   Package punkt is already up-to-date!\n"
          ]
        },
        {
          "output_type": "stream",
          "name": "stdout",
          "text": [
            "tokens: ['from', 'yasmina', 'awana', 'abidjancote', 'd', 'ivoire', 'west', 'africa', 'yasminaawanayahoocom', 'dearest', 'one', 'it', 'is', 'my', 'pleasure', 'to', 'write', 'you', 'after', 'much', 'consideration', 'since', 'i', 'can', 'not', 'be', 'able', 'to', 'see', 'you', 'face', 'to', 'face', 'at', 'first', 'please', 'i', 'need', 'your', 'help', 'i', 'am', 'yasmina', 'awana', 'the', 'only', 'dauther', 'of', 'late', 'joseph', 'awana', 'from', 'cote', 'divoire', 'i', 'am', 'years', 'of', 'age', 'my', 'father', 'was', 'a', 'liability', 'cocoa', 'and', 'gold', 'merchant', 'in', 'abidjan', 'cote', 'divoire', 'before', 'his', 'untimely', 'deathafter', 'his', 'business', 'trip', 'to', 'tunisiato', 'nagociate', 'on', 'a', 'cocoa', 'and', 'gold', 'business', 'he', 'wanted', 'to', 'invest', 'in', 'tunisia', 'a', 'week', 'after', 'he', 'came', 'back', 'from', 'tunisia', 'he', 'got', 'an', 'accident', 'with', 'my', 'mother', 'of', 'which', 'my', 'mother', 'died', 'instantly', 'but', 'my', 'father', 'died', 'five', 'days', 'after', 'in', 'a', 'private', 'hospital', 'on', 'that', 'faithful', 'afternoon', 'i', 'didnbt', 'know', 'that', 'my', 'father', 'was', 'going', 'to', 'leave', 'me', 'after', 'i', 'had', 'earlier', 'lost', 'my', 'mother', 'but', 'before', 'he', 'gave', 'up', 'the', 'ghost', 'it', 'was', 'as', 'if', 'he', 'knew', 'he', 'was', 'going', 'to', 'die', 'he', 'my', 'father', 'may', 'his', 'soul', 'rest', 'in', 'perfect', 'peace', 'called', 'me', 'to', 'his', 'bed', 'side', 'and', 'told', 'me', 'that', 'he', 'deposited', 'the', 'sum', 'of', 'm', 'ten', 'million', 'five', 'hundred', 'thousand', 'us', 'dollars', 'in', 'a', 'bank', 'here', 'in', 'cote', 'd', 'ivoirethat', 'the', 'money', 'was', 'meant', 'for', 'his', 'cocoa', 'and', 'gold', 'business', 'he', 'wanted', 'to', 'establish', 'in', 'tunisia', 'according', 'to', 'my', 'father', 'he', 'deposited', 'the', 'money', 'in', 'a', 'fixed', 'suspense', 'account', 'using', 'my', 'name', 'as', 'the', 'next', 'of', 'kin', 'he', 'instructed', 'me', 'to', 'seek', 'for', 'a', 'reliable', 'and', 'trust', 'worthy', 'business', 'partner', 'for', 'my', 'life', 'time', 'investment', 'abroad', 'now', 'i', 'have', 'succeeded', 'in', 'locating', 'the', 'deposit', 'documents', 'and', 'the', 'bank', 'where', 'this', 'money', 'is', 'here', 'in', 'abidjancote', 'divoire', 'due', 'to', 'war', 'in', 'my', 'country', 'cote', 'divoire', 'i', 'am', 'now', 'seeking', 'for', 'your', 'assistance', 'to', 'help', 'me', 'transfer', 'this', 'money', 'out', 'from', 'my', 'country', 'cfte', 'dbivoire', 'to', 'your', 'account', 'abroad', 'so', 'that', 'we', 'should', 'invest', 'it', 'in', 'any', 'meaningful', 'and', 'lucrative', 'business', 'in', 'your', 'country', 'because', 'this', 'is', 'my', 'only', 'hope', 'in', 'life', 'i', 'am', 'willing', 'to', 'offer', 'you', 'of', 'the', 'total', 'fund', 'if', 'only', 'you', 'can', 'help', 'me', 'out', 'of', 'my', 'present', 'predicament', 'the', 'worst', 'part', 'of', 'it', 'is', 'that', 'my', 'uncle', 'is', 'trying', 'to', 'kill', 'me', 'over', 'this', 'money', 'because', 'i', 'refused', 'to', 'hand', 'him', 'over', 'the', 'documents', 'covering', 'this', 'money', 'he', 'has', 'sold', 'all', 'my', 'fathers', 'landed', 'properties', 'including', 'his', 'cars', 'which', 'rightful', 'belong', 'to', 'me', 'and', 'now', 'he', 'want', 'me', 'to', 'hanh', 'over', 'the', 'banking', 'document', 'of', 'my', 'father', 'in', 'my', 'possesion', 'which', 'i', 'refusednow', 'he', 'said', 'that', 'he', 'will', 'have', 'this', 'money', 'by', 'all', 'means', 'even', 'if', 'it', 'means', 'killing', 'me', 'so', 'because', 'of', 'this', 'i', 'ran', 'away', 'from', 'home', 'and', 'hide', 'in', 'a', 'hotelpending', 'when', 'this', 'money', 'will', 'be', 'transfered', 'so', 'that', 'i', 'can', 'leave', 'the', 'country', 'for', 'my', 'safty', 'please', 'reply', 'me', 'to', 'my', 'private', 'box', 'at', 'yasminaawanayahoocom', 'thanks', 'and', 'allah', 'bless', 'you', 'yours', 'sincerely', 'yasmina', 'decouvrez', 'une', 'nouvelle', 'faeon', 'dobtenir', 'des', 'reponses', 'e', 'toutes', 'vos', 'questions', 'profitez', 'des', 'connaissances', 'des', 'opinions', 'et', 'des', 'experiences', 'des', 'internautes', 'sur', 'yahoo', 'questionsreponses', 'decouvrez', 'une', 'nouvelle', 'faeon', 'dobtenir', 'des', 'reponses', 'e', 'toutes', 'vos', 'questions', 'profitez', 'des', 'connaissances', 'des', 'opinions', 'et', 'des', 'experiences', 'des', 'internautes', 'sur', 'yahoo', 'questionsreponses']\n"
          ]
        }
      ]
    },
    {
      "cell_type": "code",
      "source": [
        "nltk.download('stopwords')\n",
        "from nltk.corpus import stopwords\n",
        "\n",
        "stop_words = set(stopwords.words('english'))\n",
        "\n",
        "df['Text'] = df['Text'].apply(lambda words: [word for word in words if word not in stop_words])\n",
        "print(\"tokens after stop word removal:\", df.loc[6049, 'Text'])\n"
      ],
      "metadata": {
        "colab": {
          "base_uri": "https://localhost:8080/"
        },
        "id": "4JOVb0TDFGIA",
        "outputId": "86dfa351-8078-46c0-9807-2bea6f24a976"
      },
      "execution_count": null,
      "outputs": [
        {
          "output_type": "stream",
          "name": "stderr",
          "text": [
            "[nltk_data] Downloading package stopwords to /root/nltk_data...\n",
            "[nltk_data]   Package stopwords is already up-to-date!\n"
          ]
        },
        {
          "output_type": "stream",
          "name": "stdout",
          "text": [
            "tokens after stop word removal: ['yasmina', 'awana', 'abidjancote', 'ivoire', 'west', 'africa', 'yasminaawanayahoocom', 'dearest', 'one', 'pleasure', 'write', 'much', 'consideration', 'since', 'able', 'see', 'face', 'face', 'first', 'please', 'need', 'help', 'yasmina', 'awana', 'dauther', 'late', 'joseph', 'awana', 'cote', 'divoire', 'years', 'age', 'father', 'liability', 'cocoa', 'gold', 'merchant', 'abidjan', 'cote', 'divoire', 'untimely', 'deathafter', 'business', 'trip', 'tunisiato', 'nagociate', 'cocoa', 'gold', 'business', 'wanted', 'invest', 'tunisia', 'week', 'came', 'back', 'tunisia', 'got', 'accident', 'mother', 'mother', 'died', 'instantly', 'father', 'died', 'five', 'days', 'private', 'hospital', 'faithful', 'afternoon', 'didnbt', 'know', 'father', 'going', 'leave', 'earlier', 'lost', 'mother', 'gave', 'ghost', 'knew', 'going', 'die', 'father', 'may', 'soul', 'rest', 'perfect', 'peace', 'called', 'bed', 'side', 'told', 'deposited', 'sum', 'ten', 'million', 'five', 'hundred', 'thousand', 'us', 'dollars', 'bank', 'cote', 'ivoirethat', 'money', 'meant', 'cocoa', 'gold', 'business', 'wanted', 'establish', 'tunisia', 'according', 'father', 'deposited', 'money', 'fixed', 'suspense', 'account', 'using', 'name', 'next', 'kin', 'instructed', 'seek', 'reliable', 'trust', 'worthy', 'business', 'partner', 'life', 'time', 'investment', 'abroad', 'succeeded', 'locating', 'deposit', 'documents', 'bank', 'money', 'abidjancote', 'divoire', 'due', 'war', 'country', 'cote', 'divoire', 'seeking', 'assistance', 'help', 'transfer', 'money', 'country', 'cfte', 'dbivoire', 'account', 'abroad', 'invest', 'meaningful', 'lucrative', 'business', 'country', 'hope', 'life', 'willing', 'offer', 'total', 'fund', 'help', 'present', 'predicament', 'worst', 'part', 'uncle', 'trying', 'kill', 'money', 'refused', 'hand', 'documents', 'covering', 'money', 'sold', 'fathers', 'landed', 'properties', 'including', 'cars', 'rightful', 'belong', 'want', 'hanh', 'banking', 'document', 'father', 'possesion', 'refusednow', 'said', 'money', 'means', 'even', 'means', 'killing', 'ran', 'away', 'home', 'hide', 'hotelpending', 'money', 'transfered', 'leave', 'country', 'safty', 'please', 'reply', 'private', 'box', 'yasminaawanayahoocom', 'thanks', 'allah', 'bless', 'sincerely', 'yasmina', 'decouvrez', 'une', 'nouvelle', 'faeon', 'dobtenir', 'des', 'reponses', 'e', 'toutes', 'vos', 'questions', 'profitez', 'des', 'connaissances', 'des', 'opinions', 'et', 'des', 'experiences', 'des', 'internautes', 'sur', 'yahoo', 'questionsreponses', 'decouvrez', 'une', 'nouvelle', 'faeon', 'dobtenir', 'des', 'reponses', 'e', 'toutes', 'vos', 'questions', 'profitez', 'des', 'connaissances', 'des', 'opinions', 'et', 'des', 'experiences', 'des', 'internautes', 'sur', 'yahoo', 'questionsreponses']\n"
          ]
        }
      ]
    },
    {
      "cell_type": "code",
      "source": [
        "nltk.download('wordnet')\n",
        "from nltk.stem import WordNetLemmatizer\n",
        "lemmatizer = WordNetLemmatizer()\n",
        "\n",
        "# Lemmatize tokens, specifying POS for verbs\n",
        "def lemmatize_tokens(tokens):\n",
        "    lemmatized_tokens = []\n",
        "    for token in tokens:\n",
        "        # Try to lemmatize as a verb first\n",
        "        lemmatized_token = lemmatizer.lemmatize(token, pos='v')\n",
        "\n",
        "        # Append lemmatized token to the list\n",
        "        df['Text'] = lemmatized_tokens.append(lemmatized_token)\n",
        "    return lemmatized_tokens\n",
        "print(\"lemmatized tokens:\", df.loc[6049, 'Text'])\n"
      ],
      "metadata": {
        "id": "D_r-85yBF_Ic",
        "colab": {
          "base_uri": "https://localhost:8080/"
        },
        "outputId": "e847e4b0-e4bb-447e-e976-ece3adabb39a"
      },
      "execution_count": null,
      "outputs": [
        {
          "output_type": "stream",
          "name": "stdout",
          "text": [
            "lemmatized tokens: ['yasmina', 'awana', 'abidjancote', 'ivoire', 'west', 'africa', 'yasminaawanayahoocom', 'dearest', 'one', 'pleasure', 'write', 'much', 'consideration', 'since', 'able', 'see', 'face', 'face', 'first', 'please', 'need', 'help', 'yasmina', 'awana', 'dauther', 'late', 'joseph', 'awana', 'cote', 'divoire', 'years', 'age', 'father', 'liability', 'cocoa', 'gold', 'merchant', 'abidjan', 'cote', 'divoire', 'untimely', 'deathafter', 'business', 'trip', 'tunisiato', 'nagociate', 'cocoa', 'gold', 'business', 'wanted', 'invest', 'tunisia', 'week', 'came', 'back', 'tunisia', 'got', 'accident', 'mother', 'mother', 'died', 'instantly', 'father', 'died', 'five', 'days', 'private', 'hospital', 'faithful', 'afternoon', 'didnbt', 'know', 'father', 'going', 'leave', 'earlier', 'lost', 'mother', 'gave', 'ghost', 'knew', 'going', 'die', 'father', 'may', 'soul', 'rest', 'perfect', 'peace', 'called', 'bed', 'side', 'told', 'deposited', 'sum', 'ten', 'million', 'five', 'hundred', 'thousand', 'us', 'dollars', 'bank', 'cote', 'ivoirethat', 'money', 'meant', 'cocoa', 'gold', 'business', 'wanted', 'establish', 'tunisia', 'according', 'father', 'deposited', 'money', 'fixed', 'suspense', 'account', 'using', 'name', 'next', 'kin', 'instructed', 'seek', 'reliable', 'trust', 'worthy', 'business', 'partner', 'life', 'time', 'investment', 'abroad', 'succeeded', 'locating', 'deposit', 'documents', 'bank', 'money', 'abidjancote', 'divoire', 'due', 'war', 'country', 'cote', 'divoire', 'seeking', 'assistance', 'help', 'transfer', 'money', 'country', 'cfte', 'dbivoire', 'account', 'abroad', 'invest', 'meaningful', 'lucrative', 'business', 'country', 'hope', 'life', 'willing', 'offer', 'total', 'fund', 'help', 'present', 'predicament', 'worst', 'part', 'uncle', 'trying', 'kill', 'money', 'refused', 'hand', 'documents', 'covering', 'money', 'sold', 'fathers', 'landed', 'properties', 'including', 'cars', 'rightful', 'belong', 'want', 'hanh', 'banking', 'document', 'father', 'possesion', 'refusednow', 'said', 'money', 'means', 'even', 'means', 'killing', 'ran', 'away', 'home', 'hide', 'hotelpending', 'money', 'transfered', 'leave', 'country', 'safty', 'please', 'reply', 'private', 'box', 'yasminaawanayahoocom', 'thanks', 'allah', 'bless', 'sincerely', 'yasmina', 'decouvrez', 'une', 'nouvelle', 'faeon', 'dobtenir', 'des', 'reponses', 'e', 'toutes', 'vos', 'questions', 'profitez', 'des', 'connaissances', 'des', 'opinions', 'et', 'des', 'experiences', 'des', 'internautes', 'sur', 'yahoo', 'questionsreponses', 'decouvrez', 'une', 'nouvelle', 'faeon', 'dobtenir', 'des', 'reponses', 'e', 'toutes', 'vos', 'questions', 'profitez', 'des', 'connaissances', 'des', 'opinions', 'et', 'des', 'experiences', 'des', 'internautes', 'sur', 'yahoo', 'questionsreponses']\n"
          ]
        },
        {
          "output_type": "stream",
          "name": "stderr",
          "text": [
            "[nltk_data] Downloading package wordnet to /root/nltk_data...\n",
            "[nltk_data]   Package wordnet is already up-to-date!\n"
          ]
        }
      ]
    },
    {
      "cell_type": "markdown",
      "source": [
        "**Note** Words like \"years\" have been converted to \"year\", and \"days\" to \"day\"\n",
        "Words like \"wanted\" remain as \"wanted\" instead of the base form \"want\", and \"deposited\" still appears as \"deposited\". This indicates that the lemmatizer may not be reducing all verb forms to their base forms\n",
        "Words like \"cocoa\", \"money\", \"soul\", and \"faithful\" stayed the same, as expected, since they’re already in their base forms.\n",
        "Words like \"yasminaawanayahoocom\", \"abidjancote\", and \"faeon\" remain the same because they’re not in the lemmatizer’s vocabulary, which is normal for names and foreign words."
      ],
      "metadata": {
        "id": "1324oLZ0RXTo"
      }
    },
    {
      "cell_type": "code",
      "source": [
        "'''from nltk.stem import WordNetLemmatizer\n",
        "from nltk.corpus import wordnet\n",
        "from nltk import pos_tag\n",
        "import nltk\n",
        "\n",
        "# Download necessary NLTK data if not already downloaded\n",
        "nltk.download('averaged_perceptron_tagger')\n",
        "nltk.download('wordnet')\n",
        "\n",
        "# Initialize lemmatizer\n",
        "lemmatizer = WordNetLemmatizer()\n",
        "\n",
        "# Map NLTK POS tags to WordNet POS tags\n",
        "def get_wordnet_pos(tag):\n",
        "    if tag.startswith('J'):\n",
        "        return wordnet.ADJ\n",
        "    elif tag.startswith('V'):\n",
        "        return wordnet.VERB\n",
        "    elif tag.startswith('N'):\n",
        "        return wordnet.NOUN\n",
        "    elif tag.startswith('R'):\n",
        "        return wordnet.ADV\n",
        "    else:\n",
        "        return None\n",
        "\n",
        "# Lemmatize tokens with POS tagging\n",
        "def lemmatize_tokens_with_pos(tokens):\n",
        "    lemmatized_tokens = []\n",
        "    pos_tagged_tokens = pos_tag(tokens)  # Get POS tags\n",
        "    for token, tag in pos_tagged_tokens:\n",
        "        wordnet_pos = get_wordnet_pos(tag) or wordnet.NOUN  # Default to noun\n",
        "        lemmatized_token = lemmatizer.lemmatize(token, pos=wordnet_pos)\n",
        "        lemmatized_tokens.append(lemmatized_token)\n",
        "    return lemmatized_tokens\n",
        "\n",
        "print(\"lemmatized text:\", df.loc[6049, 'Text'])'''"
      ],
      "metadata": {
        "colab": {
          "base_uri": "https://localhost:8080/",
          "height": 140
        },
        "id": "RZj8mGKKRWHz",
        "outputId": "ccae0118-bc39-4b45-a562-51ffd26031f0"
      },
      "execution_count": null,
      "outputs": [
        {
          "output_type": "execute_result",
          "data": {
            "text/plain": [
              "'from nltk.stem import WordNetLemmatizer\\nfrom nltk.corpus import wordnet\\nfrom nltk import pos_tag\\nimport nltk\\n\\n# Download necessary NLTK data if not already downloaded\\nnltk.download(\\'averaged_perceptron_tagger\\')\\nnltk.download(\\'wordnet\\')\\n\\n# Initialize lemmatizer\\nlemmatizer = WordNetLemmatizer()\\n\\n# Map NLTK POS tags to WordNet POS tags\\ndef get_wordnet_pos(tag):\\n    if tag.startswith(\\'J\\'):\\n        return wordnet.ADJ\\n    elif tag.startswith(\\'V\\'):\\n        return wordnet.VERB\\n    elif tag.startswith(\\'N\\'):\\n        return wordnet.NOUN\\n    elif tag.startswith(\\'R\\'):\\n        return wordnet.ADV\\n    else:\\n        return None\\n\\n# Lemmatize tokens with POS tagging\\ndef lemmatize_tokens_with_pos(tokens):\\n    lemmatized_tokens = []\\n    pos_tagged_tokens = pos_tag(tokens)  # Get POS tags\\n    for token, tag in pos_tagged_tokens:\\n        wordnet_pos = get_wordnet_pos(tag) or wordnet.NOUN  # Default to noun\\n        lemmatized_token = lemmatizer.lemmatize(token, pos=wordnet_pos)\\n        lemmatized_tokens.append(lemmatized_token)\\n    return lemmatized_tokens\\n\\nprint(\"lemmatized text:\", df.loc[6049, \\'Text\\'])'"
            ],
            "application/vnd.google.colaboratory.intrinsic+json": {
              "type": "string"
            }
          },
          "metadata": {},
          "execution_count": 18
        }
      ]
    },
    {
      "cell_type": "markdown",
      "source": [],
      "metadata": {
        "id": "CgVxsKmo4alu"
      }
    },
    {
      "cell_type": "code",
      "source": [
        "from sklearn.feature_extraction.text import CountVectorizer\n",
        "\n",
        "# Create the Bag of Words model\n",
        "vectorizer = CountVectorizer(max_features=5000, min_df=2, max_df=0.7, stop_words='english', ngram_range=(1,2))\n",
        "# Ensure each document in df['Text'] is a single string becouse countvectorizer input must be a string not list\n",
        "df['Text'] = df['Text'].apply(lambda x: ' '.join(x) if isinstance(x, list) else x)\n",
        "\n",
        "# Fit and transform the preprocessed text data\n",
        "X_bow = vectorizer.fit_transform(df['Text'])\n",
        "\n",
        "# Print the shape of the resulting matrix\n",
        "print(\"Shape of BoW Features:\", X_bow.shape)  # (number_of_documents, number_of_features)\n",
        "\n",
        "# Optional: Display the BoW features as an array\n",
        "print(\"BoW Features:\\n\", X_bow.toarray())\n",
        "\n",
        "# Optional: Display the vocabulary\n",
        "print(\"Vocabulary:\\n\", vectorizer.get_feature_names_out())"
      ],
      "metadata": {
        "colab": {
          "base_uri": "https://localhost:8080/"
        },
        "id": "6RDA3n6j1YXy",
        "outputId": "7432a986-00a0-4722-ad60-39489ce26986"
      },
      "execution_count": null,
      "outputs": [
        {
          "output_type": "stream",
          "name": "stdout",
          "text": [
            "Shape of BoW Features: (11928, 5000)\n",
            "BoW Features:\n",
            " [[0 0 0 ... 0 0 0]\n",
            " [0 0 0 ... 0 0 0]\n",
            " [0 0 0 ... 0 0 0]\n",
            " ...\n",
            " [0 0 0 ... 0 0 0]\n",
            " [0 0 0 ... 0 0 0]\n",
            " [0 0 0 ... 0 0 0]]\n",
            "Vocabulary:\n",
            " ['abacha' 'abandoned' 'abandoned sum' ... 'zimbabwe' 'zimbabwean' 'zone']\n"
          ]
        }
      ]
    },
    {
      "cell_type": "markdown",
      "source": [
        "Even after trying to imporove BoW performance , it give us bad results with a huge noise , so we will try TF-IDF\n"
      ],
      "metadata": {
        "id": "31AM97MznyfK"
      }
    },
    {
      "cell_type": "markdown",
      "source": [
        "**Note:**BoW matrix has produced a very high-dimensional feature set ( Shape of BoW Features: (11928, 116827)\n",
        ")\n",
        "- Sparse Matrices , High Dimensionality & Uninformative Vocabulary so we need to improve the BOW and we will do this by specifying a small range of features and unique words , we need to eliminate this noise to avoid overfitting"
      ],
      "metadata": {
        "id": "LLx7mVdoksu3"
      }
    },
    {
      "cell_type": "markdown",
      "source": [
        "min_df=2:\n",
        "\n",
        "Sets the minimum document frequency. Words appearing in fewer than 2 documents are excluded from the vocabulary.\n",
        "This helps filter out rare words, which often don’t contribute significantly to model accuracy and can add unnecessary noise to the dataset.\n",
        "max_df=0.7:\n",
        "\n",
        "Sets the maximum document frequency. Words that appear in more than 70% of the documents are excluded from the vocabulary.\n",
        "This helps remove extremely common words (e.g., \"email\" or \"message\" in an email dataset) that don’t add much information because they appear too frequently.\n",
        "stop_words='english':\n",
        "\n",
        "Removes common English stop words such as \"the,\" \"is,\" \"and,\" etc., which usually don’t add much information to text classification tasks.\n",
        "This helps reduce noise and focuses on more meaningful words.\n",
        "ngram_range=(1,2):\n",
        "\n",
        "Specifies that we want both unigrams (single words) and bigrams (two-word sequences) in our features.\n",
        "Bigram features can capture short phrases like \"credit card\" or \"fraud alert,\" which may carry more meaning than individual words alone."
      ],
      "metadata": {
        "id": "UFYtUEeUpvwt"
      }
    },
    {
      "cell_type": "code",
      "source": [
        "from sklearn.feature_extraction.text import TfidfVectorizer\n",
        "\n",
        "# Create the TF-IDF model\n",
        "tfidf_vectorizer = TfidfVectorizer(max_features=5000, min_df=2, max_df=0.7, stop_words='english', ngram_range=(1,2))\n",
        "\n",
        "# Fit and transform the preprocessed text data\n",
        "X_tfidf = tfidf_vectorizer.fit_transform(df['Text'])\n",
        "\n",
        "# Display the shape of the resulting TF-IDF matrix\n",
        "print(\"Shape of TF-IDF Features:\", X_tfidf.shape)\n",
        "\n",
        "# Convert the TF-IDF matrix to a dense format and put it in a DataFrame for easier viewing\n",
        "tfidf_matrix = X_tfidf.toarray()\n",
        "tfidf_df = pd.DataFrame(tfidf_matrix, columns=tfidf_vectorizer.get_feature_names_out())\n",
        "\n",
        "# Display the TF-IDF matrix (showing the first few rows for brevity)\n",
        "print(\"TF-IDF Matrix:\\n\", tfidf_df.head())\n",
        "\n",
        "# Calculate the average TF-IDF score for each word across all documents\n",
        "average_tfidf_scores = tfidf_df.mean().sort_values(ascending=False)\n",
        "\n",
        "# Display the top 10 words with the highest average TF-IDF scores\n",
        "print(\"Top 10 Words with Highest TF-IDF Scores:\\n\", average_tfidf_scores.head(10))\n",
        "\n"
      ],
      "metadata": {
        "colab": {
          "base_uri": "https://localhost:8080/"
        },
        "id": "C_8jSjNI2foo",
        "outputId": "1678d4b4-8fde-4b7e-e197-1fd6adb94ac7"
      },
      "execution_count": null,
      "outputs": [
        {
          "output_type": "stream",
          "name": "stdout",
          "text": [
            "Shape of TF-IDF Features: (11928, 5000)\n",
            "TF-IDF Matrix:\n",
            "    abacha  abandoned  abandoned sum  abbas  abdul  abedin  abedin huma  \\\n",
            "0     0.0        0.0            0.0    0.0    0.0     0.0          0.0   \n",
            "1     0.0        0.0            0.0    0.0    0.0     0.0          0.0   \n",
            "2     0.0        0.0            0.0    0.0    0.0     0.0          0.0   \n",
            "3     0.0        0.0            0.0    0.0    0.0     0.0          0.0   \n",
            "4     0.0        0.0            0.0    0.0    0.0     0.0          0.0   \n",
            "\n",
            "   abidjan  abidjan cote  abidjan economic  ...  youve  youwill  youyours  \\\n",
            "0      0.0           0.0               0.0  ...    0.0      0.0       0.0   \n",
            "1      0.0           0.0               0.0  ...    0.0      0.0       0.0   \n",
            "2      0.0           0.0               0.0  ...    0.0      0.0       0.0   \n",
            "3      0.0           0.0               0.0  ...    0.0      0.0       0.0   \n",
            "4      0.0           0.0               0.0  ...    0.0      0.0       0.0   \n",
            "\n",
            "   yrs  yuan  yukos  yukos oil  zimbabwe  zimbabwean  zone  \n",
            "0  0.0   0.0    0.0        0.0       0.0         0.0   0.0  \n",
            "1  0.0   0.0    0.0        0.0       0.0         0.0   0.0  \n",
            "2  0.0   0.0    0.0        0.0       0.0         0.0   0.0  \n",
            "3  0.0   0.0    0.0        0.0       0.0         0.0   0.0  \n",
            "4  0.0   0.0    0.0        0.0       0.0         0.0   0.0  \n",
            "\n",
            "[5 rows x 5000 columns]\n",
            "Top 10 Words with Highest TF-IDF Scores:\n",
            " fyi         0.041620\n",
            "money       0.026757\n",
            "bank        0.023512\n",
            "account     0.022224\n",
            "ok          0.017143\n",
            "want        0.014651\n",
            "fund        0.014584\n",
            "know        0.014473\n",
            "business    0.014446\n",
            "email       0.014116\n",
            "dtype: float64\n"
          ]
        }
      ]
    },
    {
      "cell_type": "markdown",
      "source": [
        "** TF-IDF** is effective in identifying important words in emails that may indicate fraudulent intent. It reduces the impact of common words and highlights unique terms."
      ],
      "metadata": {
        "id": "h583rL7r4c5X"
      }
    },
    {
      "cell_type": "code",
      "source": [
        "!pip install gensim\n"
      ],
      "metadata": {
        "colab": {
          "base_uri": "https://localhost:8080/"
        },
        "id": "KRkxBCGV10Eo",
        "outputId": "41541d8a-b8a1-4843-e3df-fc9c3243059e"
      },
      "execution_count": null,
      "outputs": [
        {
          "output_type": "stream",
          "name": "stdout",
          "text": [
            "Requirement already satisfied: gensim in /usr/local/lib/python3.10/dist-packages (4.3.3)\n",
            "Requirement already satisfied: numpy<2.0,>=1.18.5 in /usr/local/lib/python3.10/dist-packages (from gensim) (1.26.4)\n",
            "Requirement already satisfied: scipy<1.14.0,>=1.7.0 in /usr/local/lib/python3.10/dist-packages (from gensim) (1.13.1)\n",
            "Requirement already satisfied: smart-open>=1.8.1 in /usr/local/lib/python3.10/dist-packages (from gensim) (7.0.4)\n",
            "Requirement already satisfied: wrapt in /usr/local/lib/python3.10/dist-packages (from smart-open>=1.8.1->gensim) (1.16.0)\n"
          ]
        }
      ]
    },
    {
      "cell_type": "code",
      "source": [
        "from gensim.models import Word2Vec\n"
      ],
      "metadata": {
        "id": "yh87LShp17mE"
      },
      "execution_count": null,
      "outputs": []
    },
    {
      "cell_type": "code",
      "source": [
        "# Tokenize each email text\n",
        "sentences = [text.split() for text in df['Text']]\n"
      ],
      "metadata": {
        "id": "t_yHW2oG2C4I"
      },
      "execution_count": null,
      "outputs": []
    },
    {
      "cell_type": "code",
      "source": [
        "# Train Word2Vec model\n",
        "model = Word2Vec(sentences, vector_size=100, window=5, min_count=2, sg=1)\n"
      ],
      "metadata": {
        "id": "GvtQXMB72Kkm"
      },
      "execution_count": null,
      "outputs": []
    },
    {
      "cell_type": "code",
      "source": [
        "word_vector = model.wv['money']\n",
        "print(word_vector)\n"
      ],
      "metadata": {
        "colab": {
          "base_uri": "https://localhost:8080/"
        },
        "id": "vgi8UxAH2mWn",
        "outputId": "4728b5e6-e4a3-4878-b6b2-f9ea52207cb0"
      },
      "execution_count": null,
      "outputs": [
        {
          "output_type": "stream",
          "name": "stdout",
          "text": [
            "[ 0.0035017   0.3447597   0.39070982  0.76367646 -0.76538455 -0.0333284\n",
            "  0.58132744  1.4236571  -1.0118424   0.10680504  0.06171264 -0.58547634\n",
            "  0.06039001  0.03783837 -0.14065802 -0.99767673  0.20023613  0.00953057\n",
            " -0.74094397 -0.71231586  0.45419833 -0.3898473   0.61005497 -0.45402533\n",
            "  0.18463695  0.05453001 -0.18921901  0.49224928 -0.72746134 -0.30316016\n",
            "  0.12684163  0.05802984 -0.14955124 -0.3736528  -0.34341604  0.0648949\n",
            "  0.41969985 -0.479702    0.40361682 -0.39268714  0.30150804 -0.5913683\n",
            " -0.7132967  -0.1826704   0.2173642   0.7297906  -0.02376626  0.4656024\n",
            " -0.00328561  0.2909515   0.10916275  0.22415353  0.04568434  0.12971985\n",
            "  0.4380399   0.10003064 -0.2405583  -0.17650422 -1.0106516  -0.00874336\n",
            "  0.116621    0.5093896   0.08945658 -0.33751133 -0.1938299   0.88334996\n",
            "  1.022694    0.7502438  -0.5040585  -0.02103397  0.05578835  0.81751513\n",
            "  0.07687496 -0.5797435   0.02751528  0.07874931  0.8834638   0.21828827\n",
            " -0.5678406  -0.12423437 -0.7264503   0.03918168  0.29056546  0.6680541\n",
            " -0.3068612  -0.32062203  0.06684832 -0.6247656   0.5098898  -0.00145216\n",
            "  0.16362436 -0.7204609   0.5717458   0.70902085  0.9403311  -0.13236532\n",
            " -0.427505   -0.53813255 -0.07565945  0.20574686]\n"
          ]
        }
      ]
    },
    {
      "cell_type": "code",
      "source": [
        "similar_words = model.wv.most_similar('money', topn=5)\n",
        "print(similar_words)\n"
      ],
      "metadata": {
        "colab": {
          "base_uri": "https://localhost:8080/"
        },
        "id": "CVoLpdUv2w2O",
        "outputId": "8222e71e-975d-4b08-adb2-5bb09623afbc"
      },
      "execution_count": null,
      "outputs": [
        {
          "output_type": "stream",
          "name": "stdout",
          "text": [
            "[('thismoney', 0.8289911150932312), ('themoney', 0.7590124607086182), ('moneywill', 0.7144749760627747), ('moneyc', 0.7005692720413208), ('moneyto', 0.6871124505996704)]\n"
          ]
        }
      ]
    },
    {
      "cell_type": "code",
      "source": [
        "import numpy as np\n",
        "\n",
        "def email_vector(email):\n",
        "    words = email.split()\n",
        "    word_vectors = [model.wv[word] for word in words if word in model.wv]\n",
        "    return np.mean(word_vectors, axis=0) if word_vectors else np.zeros(model.vector_size)\n",
        "\n",
        "X_w2v = np.array([email_vector(email) for email in df['Text']])\n",
        "print(X_w2v)"
      ],
      "metadata": {
        "colab": {
          "base_uri": "https://localhost:8080/"
        },
        "id": "pIp8GGD629Tf",
        "outputId": "aaca16ff-444c-457a-8b31-584ada512e64"
      },
      "execution_count": null,
      "outputs": [
        {
          "output_type": "stream",
          "name": "stdout",
          "text": [
            "[[-0.05557051  0.11935092 -0.05196694 ... -0.08541014  0.19966385\n",
            "   0.14192672]\n",
            " [-0.41929764  0.68625796  0.4157719  ... -0.83831453 -0.35600695\n",
            "   0.61335838]\n",
            " [-0.24155658  0.29993039  0.17521113 ... -0.2348332  -0.04826852\n",
            "   0.11844279]\n",
            " ...\n",
            " [-0.31454059  0.29499656  0.00843214 ... -0.23763414 -0.27456069\n",
            "   0.12299588]\n",
            " [-0.18460508  0.19188882  0.07740726 ... -0.31854007 -0.06452497\n",
            "   0.16159427]\n",
            " [-0.3959831   0.15167943  0.10320606 ... -0.47499782 -0.40766156\n",
            "   0.23944961]]\n"
          ]
        }
      ]
    },
    {
      "cell_type": "code",
      "source": [
        "from sklearn.linear_model import LogisticRegression\n",
        "from sklearn.model_selection import train_test_split\n",
        "from sklearn.metrics import accuracy_score\n",
        "\n",
        "# Split data\n",
        "X_train, X_test, y_train, y_test = train_test_split(X_w2v, df['Class'], test_size=0.2, random_state=42)\n",
        "\n",
        "# Train model\n",
        "log_reg = LogisticRegression()\n",
        "log_reg.fit(X_train, y_train)\n",
        "\n",
        "# Predict and evaluate\n",
        "y_pred = log_reg.predict(X_test)\n",
        "print(\"Accuracy:\", accuracy_score(y_test, y_pred))\n"
      ],
      "metadata": {
        "colab": {
          "base_uri": "https://localhost:8080/"
        },
        "id": "6Ao_pIY_3dfy",
        "outputId": "06ba5bf2-f40b-4597-e0c1-2bd45dc1a02c"
      },
      "execution_count": null,
      "outputs": [
        {
          "output_type": "stream",
          "name": "stdout",
          "text": [
            "Accuracy: 0.9668901927912825\n"
          ]
        }
      ]
    },
    {
      "cell_type": "code",
      "source": [
        "from sklearn.tree import DecisionTreeClassifier\n",
        "from sklearn.svm import SVC\n",
        "from sklearn.neighbors import KNeighborsClassifier"
      ],
      "metadata": {
        "id": "LrjyoqcK7XYF"
      },
      "execution_count": null,
      "outputs": []
    },
    {
      "cell_type": "code",
      "source": [
        "model_n1=DecisionTreeClassifier()\n",
        "model_n3=SVC()\n",
        "model_n4=KNeighborsClassifier()"
      ],
      "metadata": {
        "id": "18pLBtnH7bOc"
      },
      "execution_count": null,
      "outputs": []
    },
    {
      "cell_type": "code",
      "source": [
        "model_n1.fit(X_train,y_train.ravel())\n",
        "model_n3.fit(X_train,y_train.ravel())\n",
        "model_n4.fit(X_train,y_train.ravel())\n"
      ],
      "metadata": {
        "colab": {
          "base_uri": "https://localhost:8080/",
          "height": 204
        },
        "id": "g78Z-Ct47eYe",
        "outputId": "60ee179f-22e6-4d89-de07-9430336fa0f9"
      },
      "execution_count": null,
      "outputs": [
        {
          "output_type": "stream",
          "name": "stderr",
          "text": [
            "<ipython-input-32-a6c564b10a82>:1: FutureWarning: Series.ravel is deprecated. The underlying array is already 1D, so ravel is not necessary.  Use `to_numpy()` for conversion to a numpy array instead.\n",
            "  model_n1.fit(X_train,y_train.ravel())\n",
            "<ipython-input-32-a6c564b10a82>:3: FutureWarning: Series.ravel is deprecated. The underlying array is already 1D, so ravel is not necessary.  Use `to_numpy()` for conversion to a numpy array instead.\n",
            "  model_n3.fit(X_train,y_train.ravel())\n",
            "<ipython-input-32-a6c564b10a82>:4: FutureWarning: Series.ravel is deprecated. The underlying array is already 1D, so ravel is not necessary.  Use `to_numpy()` for conversion to a numpy array instead.\n",
            "  model_n4.fit(X_train,y_train.ravel())\n"
          ]
        },
        {
          "output_type": "execute_result",
          "data": {
            "text/plain": [
              "KNeighborsClassifier()"
            ],
            "text/html": [
              "<style>#sk-container-id-1 {\n",
              "  /* Definition of color scheme common for light and dark mode */\n",
              "  --sklearn-color-text: black;\n",
              "  --sklearn-color-line: gray;\n",
              "  /* Definition of color scheme for unfitted estimators */\n",
              "  --sklearn-color-unfitted-level-0: #fff5e6;\n",
              "  --sklearn-color-unfitted-level-1: #f6e4d2;\n",
              "  --sklearn-color-unfitted-level-2: #ffe0b3;\n",
              "  --sklearn-color-unfitted-level-3: chocolate;\n",
              "  /* Definition of color scheme for fitted estimators */\n",
              "  --sklearn-color-fitted-level-0: #f0f8ff;\n",
              "  --sklearn-color-fitted-level-1: #d4ebff;\n",
              "  --sklearn-color-fitted-level-2: #b3dbfd;\n",
              "  --sklearn-color-fitted-level-3: cornflowerblue;\n",
              "\n",
              "  /* Specific color for light theme */\n",
              "  --sklearn-color-text-on-default-background: var(--sg-text-color, var(--theme-code-foreground, var(--jp-content-font-color1, black)));\n",
              "  --sklearn-color-background: var(--sg-background-color, var(--theme-background, var(--jp-layout-color0, white)));\n",
              "  --sklearn-color-border-box: var(--sg-text-color, var(--theme-code-foreground, var(--jp-content-font-color1, black)));\n",
              "  --sklearn-color-icon: #696969;\n",
              "\n",
              "  @media (prefers-color-scheme: dark) {\n",
              "    /* Redefinition of color scheme for dark theme */\n",
              "    --sklearn-color-text-on-default-background: var(--sg-text-color, var(--theme-code-foreground, var(--jp-content-font-color1, white)));\n",
              "    --sklearn-color-background: var(--sg-background-color, var(--theme-background, var(--jp-layout-color0, #111)));\n",
              "    --sklearn-color-border-box: var(--sg-text-color, var(--theme-code-foreground, var(--jp-content-font-color1, white)));\n",
              "    --sklearn-color-icon: #878787;\n",
              "  }\n",
              "}\n",
              "\n",
              "#sk-container-id-1 {\n",
              "  color: var(--sklearn-color-text);\n",
              "}\n",
              "\n",
              "#sk-container-id-1 pre {\n",
              "  padding: 0;\n",
              "}\n",
              "\n",
              "#sk-container-id-1 input.sk-hidden--visually {\n",
              "  border: 0;\n",
              "  clip: rect(1px 1px 1px 1px);\n",
              "  clip: rect(1px, 1px, 1px, 1px);\n",
              "  height: 1px;\n",
              "  margin: -1px;\n",
              "  overflow: hidden;\n",
              "  padding: 0;\n",
              "  position: absolute;\n",
              "  width: 1px;\n",
              "}\n",
              "\n",
              "#sk-container-id-1 div.sk-dashed-wrapped {\n",
              "  border: 1px dashed var(--sklearn-color-line);\n",
              "  margin: 0 0.4em 0.5em 0.4em;\n",
              "  box-sizing: border-box;\n",
              "  padding-bottom: 0.4em;\n",
              "  background-color: var(--sklearn-color-background);\n",
              "}\n",
              "\n",
              "#sk-container-id-1 div.sk-container {\n",
              "  /* jupyter's `normalize.less` sets `[hidden] { display: none; }`\n",
              "     but bootstrap.min.css set `[hidden] { display: none !important; }`\n",
              "     so we also need the `!important` here to be able to override the\n",
              "     default hidden behavior on the sphinx rendered scikit-learn.org.\n",
              "     See: https://github.com/scikit-learn/scikit-learn/issues/21755 */\n",
              "  display: inline-block !important;\n",
              "  position: relative;\n",
              "}\n",
              "\n",
              "#sk-container-id-1 div.sk-text-repr-fallback {\n",
              "  display: none;\n",
              "}\n",
              "\n",
              "div.sk-parallel-item,\n",
              "div.sk-serial,\n",
              "div.sk-item {\n",
              "  /* draw centered vertical line to link estimators */\n",
              "  background-image: linear-gradient(var(--sklearn-color-text-on-default-background), var(--sklearn-color-text-on-default-background));\n",
              "  background-size: 2px 100%;\n",
              "  background-repeat: no-repeat;\n",
              "  background-position: center center;\n",
              "}\n",
              "\n",
              "/* Parallel-specific style estimator block */\n",
              "\n",
              "#sk-container-id-1 div.sk-parallel-item::after {\n",
              "  content: \"\";\n",
              "  width: 100%;\n",
              "  border-bottom: 2px solid var(--sklearn-color-text-on-default-background);\n",
              "  flex-grow: 1;\n",
              "}\n",
              "\n",
              "#sk-container-id-1 div.sk-parallel {\n",
              "  display: flex;\n",
              "  align-items: stretch;\n",
              "  justify-content: center;\n",
              "  background-color: var(--sklearn-color-background);\n",
              "  position: relative;\n",
              "}\n",
              "\n",
              "#sk-container-id-1 div.sk-parallel-item {\n",
              "  display: flex;\n",
              "  flex-direction: column;\n",
              "}\n",
              "\n",
              "#sk-container-id-1 div.sk-parallel-item:first-child::after {\n",
              "  align-self: flex-end;\n",
              "  width: 50%;\n",
              "}\n",
              "\n",
              "#sk-container-id-1 div.sk-parallel-item:last-child::after {\n",
              "  align-self: flex-start;\n",
              "  width: 50%;\n",
              "}\n",
              "\n",
              "#sk-container-id-1 div.sk-parallel-item:only-child::after {\n",
              "  width: 0;\n",
              "}\n",
              "\n",
              "/* Serial-specific style estimator block */\n",
              "\n",
              "#sk-container-id-1 div.sk-serial {\n",
              "  display: flex;\n",
              "  flex-direction: column;\n",
              "  align-items: center;\n",
              "  background-color: var(--sklearn-color-background);\n",
              "  padding-right: 1em;\n",
              "  padding-left: 1em;\n",
              "}\n",
              "\n",
              "\n",
              "/* Toggleable style: style used for estimator/Pipeline/ColumnTransformer box that is\n",
              "clickable and can be expanded/collapsed.\n",
              "- Pipeline and ColumnTransformer use this feature and define the default style\n",
              "- Estimators will overwrite some part of the style using the `sk-estimator` class\n",
              "*/\n",
              "\n",
              "/* Pipeline and ColumnTransformer style (default) */\n",
              "\n",
              "#sk-container-id-1 div.sk-toggleable {\n",
              "  /* Default theme specific background. It is overwritten whether we have a\n",
              "  specific estimator or a Pipeline/ColumnTransformer */\n",
              "  background-color: var(--sklearn-color-background);\n",
              "}\n",
              "\n",
              "/* Toggleable label */\n",
              "#sk-container-id-1 label.sk-toggleable__label {\n",
              "  cursor: pointer;\n",
              "  display: block;\n",
              "  width: 100%;\n",
              "  margin-bottom: 0;\n",
              "  padding: 0.5em;\n",
              "  box-sizing: border-box;\n",
              "  text-align: center;\n",
              "}\n",
              "\n",
              "#sk-container-id-1 label.sk-toggleable__label-arrow:before {\n",
              "  /* Arrow on the left of the label */\n",
              "  content: \"▸\";\n",
              "  float: left;\n",
              "  margin-right: 0.25em;\n",
              "  color: var(--sklearn-color-icon);\n",
              "}\n",
              "\n",
              "#sk-container-id-1 label.sk-toggleable__label-arrow:hover:before {\n",
              "  color: var(--sklearn-color-text);\n",
              "}\n",
              "\n",
              "/* Toggleable content - dropdown */\n",
              "\n",
              "#sk-container-id-1 div.sk-toggleable__content {\n",
              "  max-height: 0;\n",
              "  max-width: 0;\n",
              "  overflow: hidden;\n",
              "  text-align: left;\n",
              "  /* unfitted */\n",
              "  background-color: var(--sklearn-color-unfitted-level-0);\n",
              "}\n",
              "\n",
              "#sk-container-id-1 div.sk-toggleable__content.fitted {\n",
              "  /* fitted */\n",
              "  background-color: var(--sklearn-color-fitted-level-0);\n",
              "}\n",
              "\n",
              "#sk-container-id-1 div.sk-toggleable__content pre {\n",
              "  margin: 0.2em;\n",
              "  border-radius: 0.25em;\n",
              "  color: var(--sklearn-color-text);\n",
              "  /* unfitted */\n",
              "  background-color: var(--sklearn-color-unfitted-level-0);\n",
              "}\n",
              "\n",
              "#sk-container-id-1 div.sk-toggleable__content.fitted pre {\n",
              "  /* unfitted */\n",
              "  background-color: var(--sklearn-color-fitted-level-0);\n",
              "}\n",
              "\n",
              "#sk-container-id-1 input.sk-toggleable__control:checked~div.sk-toggleable__content {\n",
              "  /* Expand drop-down */\n",
              "  max-height: 200px;\n",
              "  max-width: 100%;\n",
              "  overflow: auto;\n",
              "}\n",
              "\n",
              "#sk-container-id-1 input.sk-toggleable__control:checked~label.sk-toggleable__label-arrow:before {\n",
              "  content: \"▾\";\n",
              "}\n",
              "\n",
              "/* Pipeline/ColumnTransformer-specific style */\n",
              "\n",
              "#sk-container-id-1 div.sk-label input.sk-toggleable__control:checked~label.sk-toggleable__label {\n",
              "  color: var(--sklearn-color-text);\n",
              "  background-color: var(--sklearn-color-unfitted-level-2);\n",
              "}\n",
              "\n",
              "#sk-container-id-1 div.sk-label.fitted input.sk-toggleable__control:checked~label.sk-toggleable__label {\n",
              "  background-color: var(--sklearn-color-fitted-level-2);\n",
              "}\n",
              "\n",
              "/* Estimator-specific style */\n",
              "\n",
              "/* Colorize estimator box */\n",
              "#sk-container-id-1 div.sk-estimator input.sk-toggleable__control:checked~label.sk-toggleable__label {\n",
              "  /* unfitted */\n",
              "  background-color: var(--sklearn-color-unfitted-level-2);\n",
              "}\n",
              "\n",
              "#sk-container-id-1 div.sk-estimator.fitted input.sk-toggleable__control:checked~label.sk-toggleable__label {\n",
              "  /* fitted */\n",
              "  background-color: var(--sklearn-color-fitted-level-2);\n",
              "}\n",
              "\n",
              "#sk-container-id-1 div.sk-label label.sk-toggleable__label,\n",
              "#sk-container-id-1 div.sk-label label {\n",
              "  /* The background is the default theme color */\n",
              "  color: var(--sklearn-color-text-on-default-background);\n",
              "}\n",
              "\n",
              "/* On hover, darken the color of the background */\n",
              "#sk-container-id-1 div.sk-label:hover label.sk-toggleable__label {\n",
              "  color: var(--sklearn-color-text);\n",
              "  background-color: var(--sklearn-color-unfitted-level-2);\n",
              "}\n",
              "\n",
              "/* Label box, darken color on hover, fitted */\n",
              "#sk-container-id-1 div.sk-label.fitted:hover label.sk-toggleable__label.fitted {\n",
              "  color: var(--sklearn-color-text);\n",
              "  background-color: var(--sklearn-color-fitted-level-2);\n",
              "}\n",
              "\n",
              "/* Estimator label */\n",
              "\n",
              "#sk-container-id-1 div.sk-label label {\n",
              "  font-family: monospace;\n",
              "  font-weight: bold;\n",
              "  display: inline-block;\n",
              "  line-height: 1.2em;\n",
              "}\n",
              "\n",
              "#sk-container-id-1 div.sk-label-container {\n",
              "  text-align: center;\n",
              "}\n",
              "\n",
              "/* Estimator-specific */\n",
              "#sk-container-id-1 div.sk-estimator {\n",
              "  font-family: monospace;\n",
              "  border: 1px dotted var(--sklearn-color-border-box);\n",
              "  border-radius: 0.25em;\n",
              "  box-sizing: border-box;\n",
              "  margin-bottom: 0.5em;\n",
              "  /* unfitted */\n",
              "  background-color: var(--sklearn-color-unfitted-level-0);\n",
              "}\n",
              "\n",
              "#sk-container-id-1 div.sk-estimator.fitted {\n",
              "  /* fitted */\n",
              "  background-color: var(--sklearn-color-fitted-level-0);\n",
              "}\n",
              "\n",
              "/* on hover */\n",
              "#sk-container-id-1 div.sk-estimator:hover {\n",
              "  /* unfitted */\n",
              "  background-color: var(--sklearn-color-unfitted-level-2);\n",
              "}\n",
              "\n",
              "#sk-container-id-1 div.sk-estimator.fitted:hover {\n",
              "  /* fitted */\n",
              "  background-color: var(--sklearn-color-fitted-level-2);\n",
              "}\n",
              "\n",
              "/* Specification for estimator info (e.g. \"i\" and \"?\") */\n",
              "\n",
              "/* Common style for \"i\" and \"?\" */\n",
              "\n",
              ".sk-estimator-doc-link,\n",
              "a:link.sk-estimator-doc-link,\n",
              "a:visited.sk-estimator-doc-link {\n",
              "  float: right;\n",
              "  font-size: smaller;\n",
              "  line-height: 1em;\n",
              "  font-family: monospace;\n",
              "  background-color: var(--sklearn-color-background);\n",
              "  border-radius: 1em;\n",
              "  height: 1em;\n",
              "  width: 1em;\n",
              "  text-decoration: none !important;\n",
              "  margin-left: 1ex;\n",
              "  /* unfitted */\n",
              "  border: var(--sklearn-color-unfitted-level-1) 1pt solid;\n",
              "  color: var(--sklearn-color-unfitted-level-1);\n",
              "}\n",
              "\n",
              ".sk-estimator-doc-link.fitted,\n",
              "a:link.sk-estimator-doc-link.fitted,\n",
              "a:visited.sk-estimator-doc-link.fitted {\n",
              "  /* fitted */\n",
              "  border: var(--sklearn-color-fitted-level-1) 1pt solid;\n",
              "  color: var(--sklearn-color-fitted-level-1);\n",
              "}\n",
              "\n",
              "/* On hover */\n",
              "div.sk-estimator:hover .sk-estimator-doc-link:hover,\n",
              ".sk-estimator-doc-link:hover,\n",
              "div.sk-label-container:hover .sk-estimator-doc-link:hover,\n",
              ".sk-estimator-doc-link:hover {\n",
              "  /* unfitted */\n",
              "  background-color: var(--sklearn-color-unfitted-level-3);\n",
              "  color: var(--sklearn-color-background);\n",
              "  text-decoration: none;\n",
              "}\n",
              "\n",
              "div.sk-estimator.fitted:hover .sk-estimator-doc-link.fitted:hover,\n",
              ".sk-estimator-doc-link.fitted:hover,\n",
              "div.sk-label-container:hover .sk-estimator-doc-link.fitted:hover,\n",
              ".sk-estimator-doc-link.fitted:hover {\n",
              "  /* fitted */\n",
              "  background-color: var(--sklearn-color-fitted-level-3);\n",
              "  color: var(--sklearn-color-background);\n",
              "  text-decoration: none;\n",
              "}\n",
              "\n",
              "/* Span, style for the box shown on hovering the info icon */\n",
              ".sk-estimator-doc-link span {\n",
              "  display: none;\n",
              "  z-index: 9999;\n",
              "  position: relative;\n",
              "  font-weight: normal;\n",
              "  right: .2ex;\n",
              "  padding: .5ex;\n",
              "  margin: .5ex;\n",
              "  width: min-content;\n",
              "  min-width: 20ex;\n",
              "  max-width: 50ex;\n",
              "  color: var(--sklearn-color-text);\n",
              "  box-shadow: 2pt 2pt 4pt #999;\n",
              "  /* unfitted */\n",
              "  background: var(--sklearn-color-unfitted-level-0);\n",
              "  border: .5pt solid var(--sklearn-color-unfitted-level-3);\n",
              "}\n",
              "\n",
              ".sk-estimator-doc-link.fitted span {\n",
              "  /* fitted */\n",
              "  background: var(--sklearn-color-fitted-level-0);\n",
              "  border: var(--sklearn-color-fitted-level-3);\n",
              "}\n",
              "\n",
              ".sk-estimator-doc-link:hover span {\n",
              "  display: block;\n",
              "}\n",
              "\n",
              "/* \"?\"-specific style due to the `<a>` HTML tag */\n",
              "\n",
              "#sk-container-id-1 a.estimator_doc_link {\n",
              "  float: right;\n",
              "  font-size: 1rem;\n",
              "  line-height: 1em;\n",
              "  font-family: monospace;\n",
              "  background-color: var(--sklearn-color-background);\n",
              "  border-radius: 1rem;\n",
              "  height: 1rem;\n",
              "  width: 1rem;\n",
              "  text-decoration: none;\n",
              "  /* unfitted */\n",
              "  color: var(--sklearn-color-unfitted-level-1);\n",
              "  border: var(--sklearn-color-unfitted-level-1) 1pt solid;\n",
              "}\n",
              "\n",
              "#sk-container-id-1 a.estimator_doc_link.fitted {\n",
              "  /* fitted */\n",
              "  border: var(--sklearn-color-fitted-level-1) 1pt solid;\n",
              "  color: var(--sklearn-color-fitted-level-1);\n",
              "}\n",
              "\n",
              "/* On hover */\n",
              "#sk-container-id-1 a.estimator_doc_link:hover {\n",
              "  /* unfitted */\n",
              "  background-color: var(--sklearn-color-unfitted-level-3);\n",
              "  color: var(--sklearn-color-background);\n",
              "  text-decoration: none;\n",
              "}\n",
              "\n",
              "#sk-container-id-1 a.estimator_doc_link.fitted:hover {\n",
              "  /* fitted */\n",
              "  background-color: var(--sklearn-color-fitted-level-3);\n",
              "}\n",
              "</style><div id=\"sk-container-id-1\" class=\"sk-top-container\"><div class=\"sk-text-repr-fallback\"><pre>KNeighborsClassifier()</pre><b>In a Jupyter environment, please rerun this cell to show the HTML representation or trust the notebook. <br />On GitHub, the HTML representation is unable to render, please try loading this page with nbviewer.org.</b></div><div class=\"sk-container\" hidden><div class=\"sk-item\"><div class=\"sk-estimator fitted sk-toggleable\"><input class=\"sk-toggleable__control sk-hidden--visually\" id=\"sk-estimator-id-1\" type=\"checkbox\" checked><label for=\"sk-estimator-id-1\" class=\"sk-toggleable__label fitted sk-toggleable__label-arrow fitted\">&nbsp;&nbsp;KNeighborsClassifier<a class=\"sk-estimator-doc-link fitted\" rel=\"noreferrer\" target=\"_blank\" href=\"https://scikit-learn.org/1.5/modules/generated/sklearn.neighbors.KNeighborsClassifier.html\">?<span>Documentation for KNeighborsClassifier</span></a><span class=\"sk-estimator-doc-link fitted\">i<span>Fitted</span></span></label><div class=\"sk-toggleable__content fitted\"><pre>KNeighborsClassifier()</pre></div> </div></div></div></div>"
            ]
          },
          "metadata": {},
          "execution_count": 32
        }
      ]
    },
    {
      "cell_type": "code",
      "source": [
        "print(' DecisionTreeClassifier score:',model_n1.score(X_test,y_test))\n",
        "print(' SVM Classifier: ',model_n3.score(X_test,y_test))\n",
        "print(' KNeighborsClassifier: ',model_n4.score(X_test,y_test))\n",
        "\n"
      ],
      "metadata": {
        "colab": {
          "base_uri": "https://localhost:8080/"
        },
        "id": "_2yCYPMU7v49",
        "outputId": "56827d5f-0bd3-423f-e420-f6db4088e103"
      },
      "execution_count": null,
      "outputs": [
        {
          "output_type": "stream",
          "name": "stdout",
          "text": [
            " DecisionTreeClassifier score: 0.971081307627829\n",
            " SVM Classifier:  0.9727577535624476\n",
            " KNeighborsClassifier:  0.9744341994970662\n"
          ]
        }
      ]
    },
    {
      "cell_type": "code",
      "source": [
        "from sklearn.metrics import classification_report\n",
        "y_DT_predict=model_n1.predict(X_test)\n",
        "y_pred=log_reg.predict(X_test)\n",
        "y_SVM_predict=model_n3.predict(X_test)\n",
        "y_KNN_predict=model_n4.predict(X_test)\n",
        "\n",
        "print('Logistic Regression:')\n",
        "print(classification_report(y_test, y_pred))\n",
        "\n",
        "print('KNears Neighbors:')\n",
        "print(classification_report(y_test, y_KNN_predict))\n",
        "\n",
        "print('Support Vector Classifier:')\n",
        "print(classification_report(y_test, y_SVM_predict))\n",
        "\n",
        "print('DecisionTreeClassifier Classifier:')\n",
        "print(classification_report(y_test, y_DT_predict))"
      ],
      "metadata": {
        "colab": {
          "base_uri": "https://localhost:8080/"
        },
        "id": "Fy1zLiBL79cT",
        "outputId": "4b8c0025-55ef-4123-d7cd-b5935ffb1082"
      },
      "execution_count": null,
      "outputs": [
        {
          "output_type": "stream",
          "name": "stdout",
          "text": [
            "Logistic Regression:\n",
            "              precision    recall  f1-score   support\n",
            "\n",
            "           0       0.95      0.99      0.97      1322\n",
            "           1       0.98      0.94      0.96      1064\n",
            "\n",
            "    accuracy                           0.97      2386\n",
            "   macro avg       0.97      0.96      0.97      2386\n",
            "weighted avg       0.97      0.97      0.97      2386\n",
            "\n",
            "KNears Neighbors:\n",
            "              precision    recall  f1-score   support\n",
            "\n",
            "           0       0.97      0.99      0.98      1322\n",
            "           1       0.98      0.96      0.97      1064\n",
            "\n",
            "    accuracy                           0.97      2386\n",
            "   macro avg       0.98      0.97      0.97      2386\n",
            "weighted avg       0.97      0.97      0.97      2386\n",
            "\n",
            "Support Vector Classifier:\n",
            "              precision    recall  f1-score   support\n",
            "\n",
            "           0       0.96      0.99      0.98      1322\n",
            "           1       0.99      0.95      0.97      1064\n",
            "\n",
            "    accuracy                           0.97      2386\n",
            "   macro avg       0.97      0.97      0.97      2386\n",
            "weighted avg       0.97      0.97      0.97      2386\n",
            "\n",
            "DecisionTreeClassifier Classifier:\n",
            "              precision    recall  f1-score   support\n",
            "\n",
            "           0       0.97      0.98      0.97      1322\n",
            "           1       0.97      0.97      0.97      1064\n",
            "\n",
            "    accuracy                           0.97      2386\n",
            "   macro avg       0.97      0.97      0.97      2386\n",
            "weighted avg       0.97      0.97      0.97      2386\n",
            "\n"
          ]
        }
      ]
    },
    {
      "cell_type": "markdown",
      "source": [
        "1. Logistic Regression\n",
        "Precision (0.97) and Recall (0.97): This model is slightly lower on recall for class 1 (fraudulent emails) but achieves strong precision and balanced results overall.\n",
        "Strengths: Efficient for large datasets and interpretable.\n",
        "When to Use: Good choice if you need interpretability and low computational costs.\n",
        "2. K-Nearest Neighbors (KNN)\n",
        "Precision and Recall (0.97 - 0.98): Slightly higher recall for the positive class (1) compared to Logistic Regression, indicating it might capture fraudulent cases more effectively.\n",
        "Strengths: KNN often performs well on balanced datasets but is computationally more intensive, especially with high-dimensional data.\n",
        "When to Use: Choose this if the dataset is not too large and computation is not an issue, especially if slightly better recall is critical.\n",
        "3. Support Vector Classifier (SVC)\n",
        "Precision and Recall (0.97 - 0.99): This model provides the highest precision for the positive class (1), making it particularly effective at reducing false positives.\n",
        "Strengths: SVCs are often robust with well-defined decision boundaries, making them effective in high-dimensional spaces.\n",
        "When to Use: Best if the goal is to minimize false positives in identifying fraudulent emails, but it’s more resource-intensive.\n",
        "4. Decision Tree Classifier\n",
        "Balanced Precision and Recall (0.97) for both classes. This model’s performance is on par with the others, and it’s also straightforward to interpret.\n",
        "Strengths: It’s versatile, interpretable, and doesn’t assume linearity.\n",
        "When to Use: Useful when interpretability is important, especially if you plan to analyze decision paths."
      ],
      "metadata": {
        "id": "vyoQuYTW8_Gv"
      }
    },
    {
      "cell_type": "code",
      "source": [],
      "metadata": {
        "id": "SV-Ac60b7kkm"
      },
      "execution_count": null,
      "outputs": []
    }
  ]
}